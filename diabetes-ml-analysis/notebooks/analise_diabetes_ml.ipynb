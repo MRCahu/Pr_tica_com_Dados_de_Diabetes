{
 "cells": [
  {
   "cell_type": "markdown",
   "metadata": {},
   "source": [
    "# Análise Completa de Machine Learning - Dataset Diabetes\n",
    "\n",
    "Este notebook apresenta uma análise completa de machine learning no dataset de diabetes, seguindo metodologia estruturada para classificação binária.\n",
    "\n",
    "## Objetivos\n",
    "- Explorar e compreender o dataset de diabetes\n",
    "- Implementar e comparar modelos de classificação (Decision Tree e Random Forest)\n",
    "- Avaliar performance através de múltiplas métricas\n",
    "- Fornecer insights e recomendações baseadas nos resultados"
   ]
  },
  {
   "cell_type": "code",
   "execution_count": 92,
   "metadata": {},
   "outputs": [
    {
     "name": "stdout",
     "output_type": "stream",
     "text": [
      "✅ Bibliotecas importadas com sucesso!\n"
     ]
    }
   ],
   "source": [
    "# Importação das bibliotecas necessárias\n",
    "import pandas as pd\n",
    "import numpy as np\n",
    "import matplotlib.pyplot as plt\n",
    "import seaborn as sns\n",
    "import plotly.express as px\n",
    "import plotly.graph_objects as go\n",
    "from plotly.subplots import make_subplots\n",
    "import plotly.figure_factory as ff\n",
    "\n",
    "# Machine Learning\n",
    "from sklearn.model_selection import train_test_split\n",
    "from sklearn.tree import DecisionTreeClassifier\n",
    "from sklearn.ensemble import RandomForestClassifier\n",
    "from sklearn.metrics import (\n",
    "    accuracy_score, confusion_matrix, classification_report,\n",
    "    precision_score, recall_score, f1_score, roc_curve, auc,\n",
    "    roc_auc_score\n",
    ")\n",
    "\n",
    "# Configurações\n",
    "plt.style.use('seaborn-v0_8')\n",
    "sns.set_palette(\"husl\")\n",
    "np.random.seed(42)\n",
    "\n",
    "print(\"✅ Bibliotecas importadas com sucesso!\")"
   ]
  },
  {
   "cell_type": "markdown",
   "metadata": {},
   "source": [
    "## 1. Exploração Inicial dos Dados"
   ]
  },
  {
   "cell_type": "code",
   "execution_count": 93,
   "metadata": {},
   "outputs": [
    {
     "name": "stdout",
     "output_type": "stream",
     "text": [
      "=== ESTRUTURA DO DATASET ===\n",
      "Shape: (394, 6)\n",
      "Colunas: ['glicemia', 'pressao_sanguinea', 'dobra_cutane_triceps', 'insulina', 'imc', 'diabetes']\n",
      "\n",
      "=== PRIMEIRAS 5 LINHAS ===\n"
     ]
    },
    {
     "data": {
      "text/html": [
       "<div>\n",
       "<style scoped>\n",
       "    .dataframe tbody tr th:only-of-type {\n",
       "        vertical-align: middle;\n",
       "    }\n",
       "\n",
       "    .dataframe tbody tr th {\n",
       "        vertical-align: top;\n",
       "    }\n",
       "\n",
       "    .dataframe thead th {\n",
       "        text-align: right;\n",
       "    }\n",
       "</style>\n",
       "<table border=\"1\" class=\"dataframe\">\n",
       "  <thead>\n",
       "    <tr style=\"text-align: right;\">\n",
       "      <th></th>\n",
       "      <th>glicemia</th>\n",
       "      <th>pressao_sanguinea</th>\n",
       "      <th>dobra_cutane_triceps</th>\n",
       "      <th>insulina</th>\n",
       "      <th>imc</th>\n",
       "      <th>diabetes</th>\n",
       "    </tr>\n",
       "  </thead>\n",
       "  <tbody>\n",
       "    <tr>\n",
       "      <th>0</th>\n",
       "      <td>66</td>\n",
       "      <td>23</td>\n",
       "      <td>94</td>\n",
       "      <td>28.1</td>\n",
       "      <td>0.167</td>\n",
       "      <td>0</td>\n",
       "    </tr>\n",
       "    <tr>\n",
       "      <th>1</th>\n",
       "      <td>40</td>\n",
       "      <td>35</td>\n",
       "      <td>168</td>\n",
       "      <td>43.1</td>\n",
       "      <td>2.288</td>\n",
       "      <td>1</td>\n",
       "    </tr>\n",
       "    <tr>\n",
       "      <th>2</th>\n",
       "      <td>50</td>\n",
       "      <td>32</td>\n",
       "      <td>88</td>\n",
       "      <td>31.0</td>\n",
       "      <td>0.248</td>\n",
       "      <td>1</td>\n",
       "    </tr>\n",
       "    <tr>\n",
       "      <th>3</th>\n",
       "      <td>70</td>\n",
       "      <td>45</td>\n",
       "      <td>543</td>\n",
       "      <td>30.5</td>\n",
       "      <td>0.158</td>\n",
       "      <td>1</td>\n",
       "    </tr>\n",
       "    <tr>\n",
       "      <th>4</th>\n",
       "      <td>60</td>\n",
       "      <td>23</td>\n",
       "      <td>846</td>\n",
       "      <td>30.1</td>\n",
       "      <td>0.398</td>\n",
       "      <td>1</td>\n",
       "    </tr>\n",
       "  </tbody>\n",
       "</table>\n",
       "</div>"
      ],
      "text/plain": [
       "   glicemia  pressao_sanguinea  dobra_cutane_triceps  insulina    imc  \\\n",
       "0        66                 23                    94      28.1  0.167   \n",
       "1        40                 35                   168      43.1  2.288   \n",
       "2        50                 32                    88      31.0  0.248   \n",
       "3        70                 45                   543      30.5  0.158   \n",
       "4        60                 23                   846      30.1  0.398   \n",
       "\n",
       "   diabetes  \n",
       "0         0  \n",
       "1         1  \n",
       "2         1  \n",
       "3         1  \n",
       "4         1  "
      ]
     },
     "metadata": {},
     "output_type": "display_data"
    },
    {
     "name": "stdout",
     "output_type": "stream",
     "text": [
      "\n",
      "=== INFORMAÇÕES GERAIS ===\n",
      "<class 'pandas.core.frame.DataFrame'>\n",
      "RangeIndex: 394 entries, 0 to 393\n",
      "Data columns (total 6 columns):\n",
      " #   Column                Non-Null Count  Dtype  \n",
      "---  ------                --------------  -----  \n",
      " 0   glicemia              394 non-null    int64  \n",
      " 1   pressao_sanguinea     394 non-null    int64  \n",
      " 2   dobra_cutane_triceps  394 non-null    int64  \n",
      " 3   insulina              394 non-null    float64\n",
      " 4   imc                   394 non-null    float64\n",
      " 5   diabetes              394 non-null    int64  \n",
      "dtypes: float64(2), int64(4)\n",
      "memory usage: 18.6 KB\n",
      "\n",
      "=== ESTATÍSTICAS DESCRITIVAS ===\n"
     ]
    },
    {
     "data": {
      "text/html": [
       "<div>\n",
       "<style scoped>\n",
       "    .dataframe tbody tr th:only-of-type {\n",
       "        vertical-align: middle;\n",
       "    }\n",
       "\n",
       "    .dataframe tbody tr th {\n",
       "        vertical-align: top;\n",
       "    }\n",
       "\n",
       "    .dataframe thead th {\n",
       "        text-align: right;\n",
       "    }\n",
       "</style>\n",
       "<table border=\"1\" class=\"dataframe\">\n",
       "  <thead>\n",
       "    <tr style=\"text-align: right;\">\n",
       "      <th></th>\n",
       "      <th>glicemia</th>\n",
       "      <th>pressao_sanguinea</th>\n",
       "      <th>dobra_cutane_triceps</th>\n",
       "      <th>insulina</th>\n",
       "      <th>imc</th>\n",
       "      <th>diabetes</th>\n",
       "    </tr>\n",
       "  </thead>\n",
       "  <tbody>\n",
       "    <tr>\n",
       "      <th>count</th>\n",
       "      <td>394.000000</td>\n",
       "      <td>394.000000</td>\n",
       "      <td>394.000000</td>\n",
       "      <td>394.000000</td>\n",
       "      <td>394.000000</td>\n",
       "      <td>394.000000</td>\n",
       "    </tr>\n",
       "    <tr>\n",
       "      <th>mean</th>\n",
       "      <td>70.654822</td>\n",
       "      <td>29.106599</td>\n",
       "      <td>155.548223</td>\n",
       "      <td>32.988579</td>\n",
       "      <td>0.525543</td>\n",
       "      <td>0.329949</td>\n",
       "    </tr>\n",
       "    <tr>\n",
       "      <th>std</th>\n",
       "      <td>12.469919</td>\n",
       "      <td>10.504273</td>\n",
       "      <td>118.775855</td>\n",
       "      <td>7.210160</td>\n",
       "      <td>0.350127</td>\n",
       "      <td>0.470792</td>\n",
       "    </tr>\n",
       "    <tr>\n",
       "      <th>min</th>\n",
       "      <td>24.000000</td>\n",
       "      <td>7.000000</td>\n",
       "      <td>14.000000</td>\n",
       "      <td>0.000000</td>\n",
       "      <td>0.085000</td>\n",
       "      <td>0.000000</td>\n",
       "    </tr>\n",
       "    <tr>\n",
       "      <th>25%</th>\n",
       "      <td>62.000000</td>\n",
       "      <td>21.000000</td>\n",
       "      <td>76.250000</td>\n",
       "      <td>28.325000</td>\n",
       "      <td>0.270250</td>\n",
       "      <td>0.000000</td>\n",
       "    </tr>\n",
       "    <tr>\n",
       "      <th>50%</th>\n",
       "      <td>70.000000</td>\n",
       "      <td>29.000000</td>\n",
       "      <td>125.000000</td>\n",
       "      <td>33.200000</td>\n",
       "      <td>0.449500</td>\n",
       "      <td>0.000000</td>\n",
       "    </tr>\n",
       "    <tr>\n",
       "      <th>75%</th>\n",
       "      <td>78.000000</td>\n",
       "      <td>36.750000</td>\n",
       "      <td>190.000000</td>\n",
       "      <td>37.075000</td>\n",
       "      <td>0.687000</td>\n",
       "      <td>1.000000</td>\n",
       "    </tr>\n",
       "    <tr>\n",
       "      <th>max</th>\n",
       "      <td>110.000000</td>\n",
       "      <td>63.000000</td>\n",
       "      <td>846.000000</td>\n",
       "      <td>67.100000</td>\n",
       "      <td>2.420000</td>\n",
       "      <td>1.000000</td>\n",
       "    </tr>\n",
       "  </tbody>\n",
       "</table>\n",
       "</div>"
      ],
      "text/plain": [
       "         glicemia  pressao_sanguinea  dobra_cutane_triceps    insulina  \\\n",
       "count  394.000000         394.000000            394.000000  394.000000   \n",
       "mean    70.654822          29.106599            155.548223   32.988579   \n",
       "std     12.469919          10.504273            118.775855    7.210160   \n",
       "min     24.000000           7.000000             14.000000    0.000000   \n",
       "25%     62.000000          21.000000             76.250000   28.325000   \n",
       "50%     70.000000          29.000000            125.000000   33.200000   \n",
       "75%     78.000000          36.750000            190.000000   37.075000   \n",
       "max    110.000000          63.000000            846.000000   67.100000   \n",
       "\n",
       "              imc    diabetes  \n",
       "count  394.000000  394.000000  \n",
       "mean     0.525543    0.329949  \n",
       "std      0.350127    0.470792  \n",
       "min      0.085000    0.000000  \n",
       "25%      0.270250    0.000000  \n",
       "50%      0.449500    0.000000  \n",
       "75%      0.687000    1.000000  \n",
       "max      2.420000    1.000000  "
      ]
     },
     "metadata": {},
     "output_type": "display_data"
    }
   ],
   "source": [
    "# Carregamento do dataset\n",
    "# Caminho ajustado para o arquivo CSV\n",
    "df = pd.read_csv(r\"C:\\Users\\mauro\\Downloads\\projeto_classificacao_clientes_inadimplentes_\\Pr_tica_com_Dados_de_Diabetes\\diabetes-ml-analysis\\data\\diabetes.csv\")\n",
    "print(\"=== ESTRUTURA DO DATASET ===\")\n",
    "print(f\"Shape: {df.shape}\")\n",
    "print(f\"Colunas: {list(df.columns)}\")\n",
    "print()\n",
    "\n",
    "print(\"=== PRIMEIRAS 5 LINHAS ===\")\n",
    "display(df.head())\n",
    "\n",
    "print(\"\\n=== INFORMAÇÕES GERAIS ===\")\n",
    "df.info()\n",
    "\n",
    "print(\"\\n=== ESTATÍSTICAS DESCRITIVAS ===\")\n",
    "display(df.describe())"
   ]
  },
  {
   "cell_type": "code",
   "execution_count": 94,
   "metadata": {},
   "outputs": [
    {
     "name": "stdout",
     "output_type": "stream",
     "text": [
      "=== DISTRIBUIÇÃO DA VARIÁVEL ALVO (diabetes) ===\n",
      "Contagem: diabetes\n",
      "0    264\n",
      "1    130\n",
      "Name: count, dtype: int64\n",
      "Proporção: diabetes\n",
      "0    0.670051\n",
      "1    0.329949\n",
      "Name: proportion, dtype: float64\n",
      "\n",
      "Dataset balanceado? Não (desbalanceado)\n",
      "\n",
      "=== VALORES NULOS ===\n",
      "glicemia                0\n",
      "pressao_sanguinea       0\n",
      "dobra_cutane_triceps    0\n",
      "insulina                0\n",
      "imc                     0\n",
      "diabetes                0\n",
      "dtype: int64\n",
      "\n",
      "Dataset completo? Sim\n"
     ]
    }
   ],
   "source": [
    "# Análise da variável alvo\n",
    "print(\"=== DISTRIBUIÇÃO DA VARIÁVEL ALVO (diabetes) ===\")\n",
    "target_counts = df['diabetes'].value_counts()\n",
    "target_props = df['diabetes'].value_counts(normalize=True)\n",
    "\n",
    "print(f\"Contagem: {target_counts}\")\n",
    "print(f\"Proporção: {target_props}\")\n",
    "print(f\"\\nDataset balanceado? {'Sim' if abs(target_props[0] - target_props[1]) < 0.2 else 'Não (desbalanceado)'}\")\n",
    "\n",
    "# Verificação de valores nulos\n",
    "print(\"\\n=== VALORES NULOS ===\")\n",
    "null_counts = df.isnull().sum()\n",
    "print(null_counts)\n",
    "print(f\"\\nDataset completo? {'Sim' if null_counts.sum() == 0 else 'Não'}\")"
   ]
  },
  {
   "cell_type": "code",
   "execution_count": 95,
   "metadata": {},
   "outputs": [
    {
     "data": {
      "application/vnd.plotly.v1+json": {
       "config": {
        "plotlyServerURL": "https://plot.ly"
       },
       "data": [
        {
         "marker": {
          "color": "#1f77b4"
         },
         "name": "glicemia",
         "opacity": 0.7,
         "type": "histogram",
         "x": {
          "bdata": "QigyRjxIVB5GWF5GQlJMOjxIQG5QMkJaQkRYQDpCVUJAVk5KREZQTlJIMDJaSDg6OlVIPkw2TExKHkY6WEZARDxGPEg0PkBKVlI0OEpISlBKWkY8QEhuQEpEYkxQRlQ+QDxGSExAQVJGPkQ8PEJORlBQUERURjJMWkZQPjJMREo+TkZAPkxYSlRWOEhYPk4wPkZUTjpSTERERERGSjJEUEI8WkhAVkY6PExORkpYLj4+MkpMQEo2VmZSQEA6NFJSPGRIPD5GNlJEQkBIOjhUMERIVEo8VEBYREBOTkBeUkpKQkBOSFBASkBENkRUSkhGODRATlBMSkY6UkQ+TkFGSEZKWkBaPDI+NkZYWkZQQEpCPEI4UFxKSFpOWkxEUkQ+QEZCRDw2SD5IQjo8ViwsTFZONEhSGCZOTj5SPjY6WEo+VkZYTlJMTEpWSEpKMlQ2PEpGNDpQUmpQUDpORGpkOjhASkpSRkRaSlhMTC5AQE46Mk48QkRWTk5YOFY8UCw6WFRKRk5YWDpMSA==",
          "dtype": "i1"
         },
         "xaxis": "x",
         "yaxis": "y"
        },
        {
         "marker": {
          "color": "#ff7f0e"
         },
         "name": "pressao_sanguinea",
         "opacity": 0.7,
         "type": "histogram",
         "x": {
          "bdata": "FyMgLRcTLyYeKSEaDxMkCyEvGRgLDxUiKic8KSINGxQjFBodGSAPKBIbEh4zEh0cHxkhGiIgDzgeKh4kGA4lDRQaGR0aHyMyHCoPFRMpKCISDBcqGCouEhQkKScjLCkNLBsQIB0bGiAoKR4dIQ8bJx8lGRwVIBYjISEOBxAcDxIgMjQXChwPGiwnESsdHiUtHyYdGSEpJRcOExwlEQoWCycMIRUgJCAQEisiDRUkExMMKCgkIRkcEBwwFxYoKysPJSceCBIYDRoXHQ4MGCIpIDEeFxYjIR0pEi4gJx4uGRALFxs/DC0lEg0gHBwwIRYoDQokKS0RJh4WHyopIBwSDyEgExkaFxcRExIiByAhEw8fEjQeJTEoGRcdIxsVKx4YFyEgIhMOHiAdHh8RHi8UGBsyFi0OExIdKhknDRUWKhoNKhsvKBESIAwRHiMRJCMZFygcGyMwHy4uLSEeGhcjERwnGhouIDEYEwsbFBUgDRsUIScuJB0eHRclGxsRJRQSJSEpFicsJxowFw==",
          "dtype": "i1"
         },
         "xaxis": "x2",
         "yaxis": "y2"
        },
        {
         "marker": {
          "color": "#2ca02c"
         },
         "name": "dobra_cutane_triceps",
         "opacity": 0.7,
         "type": "histogram",
         "x": {
          "bdata": "XgCoAFgAHwJOA68A5gBTAGAA6wCSAHMAjABuAPUANgDAAM8ARgDwAFIAJAAXACwBVgEwAW4AjgCAACYAZABaAIwADgFHAH0ARwBuALAAMABAAOQATABAANwAKACYAIwAEgAkAIcA7wElAK8AMwBkAGQAYwCHAF4AkQCoAOEAMQCMADIAXABFAT8AHAF3AMwAmwDlAV4AhwA1AHIAaQAdAZwATgCCADAANwCCAIIAXAAXAO8BOgByAKAAXgDSADAAYwA+ASwAvgAYAVcAggCvAA8BgQB4AN4BvgA4ACAA6AI1AHIBJQAtAMAAWACwAMIAqAKSATcAAgF3AZYAggBDADgALQA5AHQAFgF6AJsAhwAhAtwAMQBLACgASgC2AMIAeABoAdcAuACHACoAaQCEAJQAtADNAJQAYABVAF4AQACMAOcAHQCoAJwAeABEADQAOgD/AKsAaQBJAGwAUwBKACsApwA2APkARQElAVMAQgCMANEBWQBCAF4AngBFAVQASwBIAFIAtgA7AG4AMgAdAVEAxACfAVcAEwFzAFgApQBDArAANgE9AKcA2gFzAKoATABOANIAFQG0AJEAtABVADwAMgB4AA4ARgBcAEAAPwBfANIAaQBHAO0APAA4ADEAaQAkAGQAjAC/AG4ASwBIATEAfQD6AOABCQFCAHoATACRAMEARwBPAFoAqgBMANIAVgBpAKUARgFCAIIAUgBpALwAagBBADgA0gCbANcAvgA4AEwA4QDPAKYAQwBqACwAcwDXABIBTQA2AFgAEgB+AH4ApQAsAHgASgE/AIIAWAKcAIwAcwDmALkAGQB4AH4AJQEpABABtgCeAMIAQQGQAA8AoABzADYAWgC3AEIAWwAuAGkAmAC4AZAAnwCCAGQAagBNAIcAHAJaAMgARgDnAIIAhAC+AGQAqAAxAPAACQEtAGkAzQC0ALQAXwB9AOABfQCbAMgAZABPAaAAgwEWACMBiAG5ALIAyAB/AGkAtABPAHgApQB4AKAAlgBeAHQAjABpADkAyABKAP4BbgAQALQAcAA=",
          "dtype": "i2"
         },
         "xaxis": "x3",
         "yaxis": "y3"
        },
        {
         "marker": {
          "color": "#d62728"
         },
         "name": "insulina",
         "opacity": 0.7,
         "type": "histogram",
         "x": {
          "bdata": "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",
          "dtype": "f8"
         },
         "xaxis": "x4",
         "yaxis": "y4"
        },
        {
         "marker": {
          "color": "#9467bd"
         },
         "name": "imc",
         "opacity": 0.7,
         "type": "histogram",
         "x": {
          "bdata": "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",
          "dtype": "f8"
         },
         "xaxis": "x5",
         "yaxis": "y5"
        },
        {
         "marker": {
          "color": "#8c564b"
         },
         "name": "diabetes",
         "opacity": 0.7,
         "type": "histogram",
         "x": {
          "bdata": "AAEBAQEBAQABAAEBAAABAAABAAEAAAABAAEAAAAAAAEAAAAAAAEAAAAAAAABAAAAAAEBAQABAAEAAQAAAQEBAAAAAAAAAAAAAQAAAAABAAABAAEAAAEBAAABAQEBAAEBAQEAAAEAAQEBAQABAAAAAAABAAABAAEAAAAAAQABAAAAAAAAAAAAAAABAAAAAQEBAAEAAQEAAAEAAQEAAQAAAAAAAQABAQAAAAABAAAAAAAAAQABAQAAAAEBAAAAAAEAAAAAAAAAAAEAAAAAAAABAAEAAAABAQEAAAABAQEAAQAAAAABAAABAAAAAAABAAAAAAAAAAEAAAEAAAEAAAABAAEAAAABAAAAAAEBAAAAAAAAAAAAAAEBAQAAAQEAAAAAAAABAAAAAAAAAQAAAAAAAQEAAAABAAABAQAAAAABAQEAAAAAAAAAAQAAAAABAQEAAAAAAQAAAQEBAAAAAAAAAAAAAAABAAEBAQAAAAABAAAAAQEAAAEAAAEBAAAAAQAAAAAAAQABAQAAAA==",
          "dtype": "i1"
         },
         "xaxis": "x6",
         "yaxis": "y6"
        }
       ],
       "layout": {
        "annotations": [
         {
          "font": {
           "size": 16
          },
          "showarrow": false,
          "text": "glicemia",
          "x": 0.14444444444444446,
          "xanchor": "center",
          "xref": "paper",
          "y": 1,
          "yanchor": "bottom",
          "yref": "paper"
         },
         {
          "font": {
           "size": 16
          },
          "showarrow": false,
          "text": "pressao_sanguinea",
          "x": 0.5,
          "xanchor": "center",
          "xref": "paper",
          "y": 1,
          "yanchor": "bottom",
          "yref": "paper"
         },
         {
          "font": {
           "size": 16
          },
          "showarrow": false,
          "text": "dobra_cutane_triceps",
          "x": 0.8555555555555556,
          "xanchor": "center",
          "xref": "paper",
          "y": 1,
          "yanchor": "bottom",
          "yref": "paper"
         },
         {
          "font": {
           "size": 16
          },
          "showarrow": false,
          "text": "insulina",
          "x": 0.14444444444444446,
          "xanchor": "center",
          "xref": "paper",
          "y": 0.375,
          "yanchor": "bottom",
          "yref": "paper"
         },
         {
          "font": {
           "size": 16
          },
          "showarrow": false,
          "text": "imc",
          "x": 0.5,
          "xanchor": "center",
          "xref": "paper",
          "y": 0.375,
          "yanchor": "bottom",
          "yref": "paper"
         },
         {
          "font": {
           "size": 16
          },
          "showarrow": false,
          "text": "diabetes",
          "x": 0.8555555555555556,
          "xanchor": "center",
          "xref": "paper",
          "y": 0.375,
          "yanchor": "bottom",
          "yref": "paper"
         }
        ],
        "height": 600,
        "showlegend": false,
        "template": {
         "data": {
          "bar": [
           {
            "error_x": {
             "color": "#2a3f5f"
            },
            "error_y": {
             "color": "#2a3f5f"
            },
            "marker": {
             "line": {
              "color": "#E5ECF6",
              "width": 0.5
             },
             "pattern": {
              "fillmode": "overlay",
              "size": 10,
              "solidity": 0.2
             }
            },
            "type": "bar"
           }
          ],
          "barpolar": [
           {
            "marker": {
             "line": {
              "color": "#E5ECF6",
              "width": 0.5
             },
             "pattern": {
              "fillmode": "overlay",
              "size": 10,
              "solidity": 0.2
             }
            },
            "type": "barpolar"
           }
          ],
          "carpet": [
           {
            "aaxis": {
             "endlinecolor": "#2a3f5f",
             "gridcolor": "white",
             "linecolor": "white",
             "minorgridcolor": "white",
             "startlinecolor": "#2a3f5f"
            },
            "baxis": {
             "endlinecolor": "#2a3f5f",
             "gridcolor": "white",
             "linecolor": "white",
             "minorgridcolor": "white",
             "startlinecolor": "#2a3f5f"
            },
            "type": "carpet"
           }
          ],
          "choropleth": [
           {
            "colorbar": {
             "outlinewidth": 0,
             "ticks": ""
            },
            "type": "choropleth"
           }
          ],
          "contour": [
           {
            "colorbar": {
             "outlinewidth": 0,
             "ticks": ""
            },
            "colorscale": [
             [
              0,
              "#0d0887"
             ],
             [
              0.1111111111111111,
              "#46039f"
             ],
             [
              0.2222222222222222,
              "#7201a8"
             ],
             [
              0.3333333333333333,
              "#9c179e"
             ],
             [
              0.4444444444444444,
              "#bd3786"
             ],
             [
              0.5555555555555556,
              "#d8576b"
             ],
             [
              0.6666666666666666,
              "#ed7953"
             ],
             [
              0.7777777777777778,
              "#fb9f3a"
             ],
             [
              0.8888888888888888,
              "#fdca26"
             ],
             [
              1,
              "#f0f921"
             ]
            ],
            "type": "contour"
           }
          ],
          "contourcarpet": [
           {
            "colorbar": {
             "outlinewidth": 0,
             "ticks": ""
            },
            "type": "contourcarpet"
           }
          ],
          "heatmap": [
           {
            "colorbar": {
             "outlinewidth": 0,
             "ticks": ""
            },
            "colorscale": [
             [
              0,
              "#0d0887"
             ],
             [
              0.1111111111111111,
              "#46039f"
             ],
             [
              0.2222222222222222,
              "#7201a8"
             ],
             [
              0.3333333333333333,
              "#9c179e"
             ],
             [
              0.4444444444444444,
              "#bd3786"
             ],
             [
              0.5555555555555556,
              "#d8576b"
             ],
             [
              0.6666666666666666,
              "#ed7953"
             ],
             [
              0.7777777777777778,
              "#fb9f3a"
             ],
             [
              0.8888888888888888,
              "#fdca26"
             ],
             [
              1,
              "#f0f921"
             ]
            ],
            "type": "heatmap"
           }
          ],
          "histogram": [
           {
            "marker": {
             "pattern": {
              "fillmode": "overlay",
              "size": 10,
              "solidity": 0.2
             }
            },
            "type": "histogram"
           }
          ],
          "histogram2d": [
           {
            "colorbar": {
             "outlinewidth": 0,
             "ticks": ""
            },
            "colorscale": [
             [
              0,
              "#0d0887"
             ],
             [
              0.1111111111111111,
              "#46039f"
             ],
             [
              0.2222222222222222,
              "#7201a8"
             ],
             [
              0.3333333333333333,
              "#9c179e"
             ],
             [
              0.4444444444444444,
              "#bd3786"
             ],
             [
              0.5555555555555556,
              "#d8576b"
             ],
             [
              0.6666666666666666,
              "#ed7953"
             ],
             [
              0.7777777777777778,
              "#fb9f3a"
             ],
             [
              0.8888888888888888,
              "#fdca26"
             ],
             [
              1,
              "#f0f921"
             ]
            ],
            "type": "histogram2d"
           }
          ],
          "histogram2dcontour": [
           {
            "colorbar": {
             "outlinewidth": 0,
             "ticks": ""
            },
            "colorscale": [
             [
              0,
              "#0d0887"
             ],
             [
              0.1111111111111111,
              "#46039f"
             ],
             [
              0.2222222222222222,
              "#7201a8"
             ],
             [
              0.3333333333333333,
              "#9c179e"
             ],
             [
              0.4444444444444444,
              "#bd3786"
             ],
             [
              0.5555555555555556,
              "#d8576b"
             ],
             [
              0.6666666666666666,
              "#ed7953"
             ],
             [
              0.7777777777777778,
              "#fb9f3a"
             ],
             [
              0.8888888888888888,
              "#fdca26"
             ],
             [
              1,
              "#f0f921"
             ]
            ],
            "type": "histogram2dcontour"
           }
          ],
          "mesh3d": [
           {
            "colorbar": {
             "outlinewidth": 0,
             "ticks": ""
            },
            "type": "mesh3d"
           }
          ],
          "parcoords": [
           {
            "line": {
             "colorbar": {
              "outlinewidth": 0,
              "ticks": ""
             }
            },
            "type": "parcoords"
           }
          ],
          "pie": [
           {
            "automargin": true,
            "type": "pie"
           }
          ],
          "scatter": [
           {
            "fillpattern": {
             "fillmode": "overlay",
             "size": 10,
             "solidity": 0.2
            },
            "type": "scatter"
           }
          ],
          "scatter3d": [
           {
            "line": {
             "colorbar": {
              "outlinewidth": 0,
              "ticks": ""
             }
            },
            "marker": {
             "colorbar": {
              "outlinewidth": 0,
              "ticks": ""
             }
            },
            "type": "scatter3d"
           }
          ],
          "scattercarpet": [
           {
            "marker": {
             "colorbar": {
              "outlinewidth": 0,
              "ticks": ""
             }
            },
            "type": "scattercarpet"
           }
          ],
          "scattergeo": [
           {
            "marker": {
             "colorbar": {
              "outlinewidth": 0,
              "ticks": ""
             }
            },
            "type": "scattergeo"
           }
          ],
          "scattergl": [
           {
            "marker": {
             "colorbar": {
              "outlinewidth": 0,
              "ticks": ""
             }
            },
            "type": "scattergl"
           }
          ],
          "scattermap": [
           {
            "marker": {
             "colorbar": {
              "outlinewidth": 0,
              "ticks": ""
             }
            },
            "type": "scattermap"
           }
          ],
          "scattermapbox": [
           {
            "marker": {
             "colorbar": {
              "outlinewidth": 0,
              "ticks": ""
             }
            },
            "type": "scattermapbox"
           }
          ],
          "scatterpolar": [
           {
            "marker": {
             "colorbar": {
              "outlinewidth": 0,
              "ticks": ""
             }
            },
            "type": "scatterpolar"
           }
          ],
          "scatterpolargl": [
           {
            "marker": {
             "colorbar": {
              "outlinewidth": 0,
              "ticks": ""
             }
            },
            "type": "scatterpolargl"
           }
          ],
          "scatterternary": [
           {
            "marker": {
             "colorbar": {
              "outlinewidth": 0,
              "ticks": ""
             }
            },
            "type": "scatterternary"
           }
          ],
          "surface": [
           {
            "colorbar": {
             "outlinewidth": 0,
             "ticks": ""
            },
            "colorscale": [
             [
              0,
              "#0d0887"
             ],
             [
              0.1111111111111111,
              "#46039f"
             ],
             [
              0.2222222222222222,
              "#7201a8"
             ],
             [
              0.3333333333333333,
              "#9c179e"
             ],
             [
              0.4444444444444444,
              "#bd3786"
             ],
             [
              0.5555555555555556,
              "#d8576b"
             ],
             [
              0.6666666666666666,
              "#ed7953"
             ],
             [
              0.7777777777777778,
              "#fb9f3a"
             ],
             [
              0.8888888888888888,
              "#fdca26"
             ],
             [
              1,
              "#f0f921"
             ]
            ],
            "type": "surface"
           }
          ],
          "table": [
           {
            "cells": {
             "fill": {
              "color": "#EBF0F8"
             },
             "line": {
              "color": "white"
             }
            },
            "header": {
             "fill": {
              "color": "#C8D4E3"
             },
             "line": {
              "color": "white"
             }
            },
            "type": "table"
           }
          ]
         },
         "layout": {
          "annotationdefaults": {
           "arrowcolor": "#2a3f5f",
           "arrowhead": 0,
           "arrowwidth": 1
          },
          "autotypenumbers": "strict",
          "coloraxis": {
           "colorbar": {
            "outlinewidth": 0,
            "ticks": ""
           }
          },
          "colorscale": {
           "diverging": [
            [
             0,
             "#8e0152"
            ],
            [
             0.1,
             "#c51b7d"
            ],
            [
             0.2,
             "#de77ae"
            ],
            [
             0.3,
             "#f1b6da"
            ],
            [
             0.4,
             "#fde0ef"
            ],
            [
             0.5,
             "#f7f7f7"
            ],
            [
             0.6,
             "#e6f5d0"
            ],
            [
             0.7,
             "#b8e186"
            ],
            [
             0.8,
             "#7fbc41"
            ],
            [
             0.9,
             "#4d9221"
            ],
            [
             1,
             "#276419"
            ]
           ],
           "sequential": [
            [
             0,
             "#0d0887"
            ],
            [
             0.1111111111111111,
             "#46039f"
            ],
            [
             0.2222222222222222,
             "#7201a8"
            ],
            [
             0.3333333333333333,
             "#9c179e"
            ],
            [
             0.4444444444444444,
             "#bd3786"
            ],
            [
             0.5555555555555556,
             "#d8576b"
            ],
            [
             0.6666666666666666,
             "#ed7953"
            ],
            [
             0.7777777777777778,
             "#fb9f3a"
            ],
            [
             0.8888888888888888,
             "#fdca26"
            ],
            [
             1,
             "#f0f921"
            ]
           ],
           "sequentialminus": [
            [
             0,
             "#0d0887"
            ],
            [
             0.1111111111111111,
             "#46039f"
            ],
            [
             0.2222222222222222,
             "#7201a8"
            ],
            [
             0.3333333333333333,
             "#9c179e"
            ],
            [
             0.4444444444444444,
             "#bd3786"
            ],
            [
             0.5555555555555556,
             "#d8576b"
            ],
            [
             0.6666666666666666,
             "#ed7953"
            ],
            [
             0.7777777777777778,
             "#fb9f3a"
            ],
            [
             0.8888888888888888,
             "#fdca26"
            ],
            [
             1,
             "#f0f921"
            ]
           ]
          },
          "colorway": [
           "#636efa",
           "#EF553B",
           "#00cc96",
           "#ab63fa",
           "#FFA15A",
           "#19d3f3",
           "#FF6692",
           "#B6E880",
           "#FF97FF",
           "#FECB52"
          ],
          "font": {
           "color": "#2a3f5f"
          },
          "geo": {
           "bgcolor": "white",
           "lakecolor": "white",
           "landcolor": "#E5ECF6",
           "showlakes": true,
           "showland": true,
           "subunitcolor": "white"
          },
          "hoverlabel": {
           "align": "left"
          },
          "hovermode": "closest",
          "mapbox": {
           "style": "light"
          },
          "paper_bgcolor": "white",
          "plot_bgcolor": "#E5ECF6",
          "polar": {
           "angularaxis": {
            "gridcolor": "white",
            "linecolor": "white",
            "ticks": ""
           },
           "bgcolor": "#E5ECF6",
           "radialaxis": {
            "gridcolor": "white",
            "linecolor": "white",
            "ticks": ""
           }
          },
          "scene": {
           "xaxis": {
            "backgroundcolor": "#E5ECF6",
            "gridcolor": "white",
            "gridwidth": 2,
            "linecolor": "white",
            "showbackground": true,
            "ticks": "",
            "zerolinecolor": "white"
           },
           "yaxis": {
            "backgroundcolor": "#E5ECF6",
            "gridcolor": "white",
            "gridwidth": 2,
            "linecolor": "white",
            "showbackground": true,
            "ticks": "",
            "zerolinecolor": "white"
           },
           "zaxis": {
            "backgroundcolor": "#E5ECF6",
            "gridcolor": "white",
            "gridwidth": 2,
            "linecolor": "white",
            "showbackground": true,
            "ticks": "",
            "zerolinecolor": "white"
           }
          },
          "shapedefaults": {
           "line": {
            "color": "#2a3f5f"
           }
          },
          "ternary": {
           "aaxis": {
            "gridcolor": "white",
            "linecolor": "white",
            "ticks": ""
           },
           "baxis": {
            "gridcolor": "white",
            "linecolor": "white",
            "ticks": ""
           },
           "bgcolor": "#E5ECF6",
           "caxis": {
            "gridcolor": "white",
            "linecolor": "white",
            "ticks": ""
           }
          },
          "title": {
           "x": 0.05
          },
          "xaxis": {
           "automargin": true,
           "gridcolor": "white",
           "linecolor": "white",
           "ticks": "",
           "title": {
            "standoff": 15
           },
           "zerolinecolor": "white",
           "zerolinewidth": 2
          },
          "yaxis": {
           "automargin": true,
           "gridcolor": "white",
           "linecolor": "white",
           "ticks": "",
           "title": {
            "standoff": 15
           },
           "zerolinecolor": "white",
           "zerolinewidth": 2
          }
         }
        },
        "title": {
         "text": "Distribuição das Variáveis do Dataset"
        },
        "xaxis": {
         "anchor": "y",
         "domain": [
          0,
          0.2888888888888889
         ]
        },
        "xaxis2": {
         "anchor": "y2",
         "domain": [
          0.35555555555555557,
          0.6444444444444445
         ]
        },
        "xaxis3": {
         "anchor": "y3",
         "domain": [
          0.7111111111111111,
          1
         ]
        },
        "xaxis4": {
         "anchor": "y4",
         "domain": [
          0,
          0.2888888888888889
         ]
        },
        "xaxis5": {
         "anchor": "y5",
         "domain": [
          0.35555555555555557,
          0.6444444444444445
         ]
        },
        "xaxis6": {
         "anchor": "y6",
         "domain": [
          0.7111111111111111,
          1
         ]
        },
        "yaxis": {
         "anchor": "x",
         "domain": [
          0.625,
          1
         ]
        },
        "yaxis2": {
         "anchor": "x2",
         "domain": [
          0.625,
          1
         ]
        },
        "yaxis3": {
         "anchor": "x3",
         "domain": [
          0.625,
          1
         ]
        },
        "yaxis4": {
         "anchor": "x4",
         "domain": [
          0,
          0.375
         ]
        },
        "yaxis5": {
         "anchor": "x5",
         "domain": [
          0,
          0.375
         ]
        },
        "yaxis6": {
         "anchor": "x6",
         "domain": [
          0,
          0.375
         ]
        }
       }
      }
     },
     "metadata": {},
     "output_type": "display_data"
    }
   ],
   "source": [
    "# Visualização da distribuição das variáveis\n",
    "fig = make_subplots(\n",
    "    rows=2, cols=3,\n",
    "    subplot_titles=list(df.columns),\n",
    "    specs=[[{\"secondary_y\": False}]*3]*2\n",
    ")\n",
    "\n",
    "colors = ['#1f77b4', '#ff7f0e', '#2ca02c', '#d62728', '#9467bd', '#8c564b']\n",
    "\n",
    "for i, col in enumerate(df.columns):\n",
    "    row = i // 3 + 1\n",
    "    col_pos = i % 3 + 1\n",
    "    \n",
    "    fig.add_trace(\n",
    "        go.Histogram(\n",
    "            x=df[col],\n",
    "            name=col,\n",
    "            marker_color=colors[i],\n",
    "            opacity=0.7\n",
    "        ),\n",
    "        row=row, col=col_pos\n",
    "    )\n",
    "\n",
    "fig.update_layout(\n",
    "    title_text=\"Distribuição das Variáveis do Dataset\",\n",
    "    showlegend=False,\n",
    "    height=600\n",
    ")\n",
    "\n",
    "fig.show()\n",
    "fig.write_html('distribuicao_variaveis.html')"
   ]
  },
  {
   "cell_type": "markdown",
   "metadata": {},
   "source": [
    "## 2. Preparação dos Dados"
   ]
  },
  {
   "cell_type": "code",
   "execution_count": 96,
   "metadata": {},
   "outputs": [
    {
     "name": "stdout",
     "output_type": "stream",
     "text": [
      "=== SEPARAÇÃO DAS VARIÁVEIS ===\n",
      "Variáveis explicativas (X): ['glicemia', 'pressao_sanguinea', 'dobra_cutane_triceps', 'insulina', 'imc']\n",
      "Variável alvo (y): diabetes\n",
      "Shape X: (394, 5)\n",
      "Shape y: (394,)\n",
      "\n",
      "=== DIVISÃO DOS DADOS ===\n",
      "Treino: 280 amostras (71.1%)\n",
      "Validação: 94 amostras (23.9%)\n",
      "Teste: 20 amostras (5.1%)\n",
      "Total: 394 amostras\n",
      "\n",
      "=== VERIFICAÇÃO DA ESTRATIFICAÇÃO ===\n",
      "Treino - Classe 0: 188, Classe 1: 92\n",
      "Validação - Classe 0: 63, Classe 1: 31\n",
      "Teste - Classe 0: 13, Classe 1: 7\n",
      "\n",
      "Proporção classe 1:\n",
      "Treino: 0.329\n",
      "Validação: 0.330\n",
      "Teste: 0.350\n",
      "Original: 0.330\n"
     ]
    }
   ],
   "source": [
    "# Separação das variáveis explicativas (X) e variável alvo (y)\n",
    "X = df.drop('diabetes', axis=1)\n",
    "y = df['diabetes']\n",
    "\n",
    "print(\"=== SEPARAÇÃO DAS VARIÁVEIS ===\")\n",
    "print(f\"Variáveis explicativas (X): {list(X.columns)}\")\n",
    "print(f\"Variável alvo (y): diabetes\")\n",
    "print(f\"Shape X: {X.shape}\")\n",
    "print(f\"Shape y: {y.shape}\")\n",
    "\n",
    "# Divisão dos dados conforme especificado:\n",
    "# 1. 5% para teste\n",
    "# 2. Dos 95% restantes, 25% para validação (que equivale a ~23.75% do total)\n",
    "# 3. O restante para treino (~71.25% do total)\n",
    "\n",
    "# Primeira divisão: 95% treino+validação, 5% teste\n",
    "X_temp, X_test, y_temp, y_test = train_test_split(\n",
    "    X, y, test_size=0.05, random_state=42, stratify=y\n",
    ")\n",
    "\n",
    "# Segunda divisão: dos 95% restantes, 25% para validação\n",
    "X_train, X_val, y_train, y_val = train_test_split(\n",
    "    X_temp, y_temp, test_size=0.25, random_state=42, stratify=y_temp\n",
    ")\n",
    "\n",
    "print(\"\\n=== DIVISÃO DOS DADOS ===\")\n",
    "print(f\"Treino: {X_train.shape[0]} amostras ({X_train.shape[0]/len(df)*100:.1f}%)\")\n",
    "print(f\"Validação: {X_val.shape[0]} amostras ({X_val.shape[0]/len(df)*100:.1f}%)\")\n",
    "print(f\"Teste: {X_test.shape[0]} amostras ({X_test.shape[0]/len(df)*100:.1f}%)\")\n",
    "print(f\"Total: {X_train.shape[0] + X_val.shape[0] + X_test.shape[0]} amostras\")\n",
    "\n",
    "# Verificação da estratificação\n",
    "print(\"\\n=== VERIFICAÇÃO DA ESTRATIFICAÇÃO ===\")\n",
    "print(f\"Treino - Classe 0: {(y_train==0).sum()}, Classe 1: {(y_train==1).sum()}\")\n",
    "print(f\"Validação - Classe 0: {(y_val==0).sum()}, Classe 1: {(y_val==1).sum()}\")\n",
    "print(f\"Teste - Classe 0: {(y_test==0).sum()}, Classe 1: {(y_test==1).sum()}\")\n",
    "\n",
    "print(f\"\\nProporção classe 1:\")\n",
    "print(f\"Treino: {y_train.mean():.3f}\")\n",
    "print(f\"Validação: {y_val.mean():.3f}\")\n",
    "print(f\"Teste: {y_test.mean():.3f}\")\n",
    "print(f\"Original: {y.mean():.3f}\")"
   ]
  },
  {
   "cell_type": "markdown",
   "metadata": {},
   "source": [
    "## 3. Modelagem"
   ]
  },
  {
   "cell_type": "code",
   "execution_count": 97,
   "metadata": {},
   "outputs": [
    {
     "name": "stdout",
     "output_type": "stream",
     "text": [
      "=== TREINAMENTO DOS MODELOS ===\n",
      "✅ Decision Tree treinada\n",
      "✅ Random Forest treinada\n",
      "✅ Predições realizadas para todos os conjuntos\n"
     ]
    }
   ],
   "source": [
    "# Criação e treinamento dos modelos\n",
    "print(\"=== TREINAMENTO DOS MODELOS ===\")\n",
    "\n",
    "# Modelo 1: Decision Tree com max_depth=3\n",
    "dt_model = DecisionTreeClassifier(max_depth=3, random_state=42)\n",
    "dt_model.fit(X_train, y_train)\n",
    "print(\"✅ Decision Tree treinada\")\n",
    "\n",
    "# Modelo 2: Random Forest com max_depth=2\n",
    "rf_model = RandomForestClassifier(max_depth=2, random_state=42, n_estimators=100)\n",
    "rf_model.fit(X_train, y_train)\n",
    "print(\"✅ Random Forest treinada\")\n",
    "\n",
    "# Predições para todos os conjuntos\n",
    "models = {\n",
    "    'Decision Tree': dt_model,\n",
    "    'Random Forest': rf_model\n",
    "}\n",
    "\n",
    "predictions = {}\n",
    "probabilities = {}\n",
    "\n",
    "for name, model in models.items():\n",
    "    predictions[name] = {\n",
    "        'train': model.predict(X_train),\n",
    "        'val': model.predict(X_val),\n",
    "        'test': model.predict(X_test)\n",
    "    }\n",
    "    probabilities[name] = {\n",
    "        'train': model.predict_proba(X_train)[:, 1],\n",
    "        'val': model.predict_proba(X_val)[:, 1],\n",
    "        'test': model.predict_proba(X_test)[:, 1]\n",
    "    }\n",
    "\n",
    "print(\"✅ Predições realizadas para todos os conjuntos\")"
   ]
  },
  {
   "cell_type": "code",
   "execution_count": 98,
   "metadata": {},
   "outputs": [
    {
     "name": "stdout",
     "output_type": "stream",
     "text": [
      "=== ACURÁCIAS DOS MODELOS ===\n",
      "\n",
      "Decision Tree:\n",
      "  Treino: 0.8107\n",
      "  Validação: 0.6702\n",
      "  Teste: 0.7500\n",
      "  ⚠️ Possível overfitting (diferença treino-validação: 0.1405)\n",
      "\n",
      "Random Forest:\n",
      "  Treino: 0.7857\n",
      "  Validação: 0.6277\n",
      "  Teste: 0.6500\n",
      "  ⚠️ Possível overfitting (diferença treino-validação: 0.1581)\n"
     ]
    }
   ],
   "source": [
    "# Cálculo das acurácias\n",
    "print(\"=== ACURÁCIAS DOS MODELOS ===\")\n",
    "\n",
    "accuracies = {}\n",
    "for name in models.keys():\n",
    "    accuracies[name] = {\n",
    "        'train': accuracy_score(y_train, predictions[name]['train']),\n",
    "        'val': accuracy_score(y_val, predictions[name]['val']),\n",
    "        'test': accuracy_score(y_test, predictions[name]['test'])\n",
    "    }\n",
    "    \n",
    "    print(f\"\\n{name}:\")\n",
    "    print(f\"  Treino: {accuracies[name]['train']:.4f}\")\n",
    "    print(f\"  Validação: {accuracies[name]['val']:.4f}\")\n",
    "    print(f\"  Teste: {accuracies[name]['test']:.4f}\")\n",
    "    \n",
    "    # Análise de overfitting\n",
    "    train_val_diff = accuracies[name]['train'] - accuracies[name]['val']\n",
    "    if train_val_diff > 0.05:\n",
    "        print(f\"  ⚠️ Possível overfitting (diferença treino-validação: {train_val_diff:.4f})\")\n",
    "    else:\n",
    "        print(f\"  ✅ Modelo bem generalizado (diferença treino-validação: {train_val_diff:.4f})\")"
   ]
  },
  {
   "cell_type": "markdown",
   "metadata": {},
   "source": [
    "## 4. Avaliação Completa dos Modelos"
   ]
  },
  {
   "cell_type": "code",
   "execution_count": 99,
   "metadata": {},
   "outputs": [
    {
     "name": "stdout",
     "output_type": "stream",
     "text": [
      "=== MÉTRICAS COMPLETAS ===\n"
     ]
    },
    {
     "data": {
      "text/html": [
       "<div>\n",
       "<style scoped>\n",
       "    .dataframe tbody tr th:only-of-type {\n",
       "        vertical-align: middle;\n",
       "    }\n",
       "\n",
       "    .dataframe tbody tr th {\n",
       "        vertical-align: top;\n",
       "    }\n",
       "\n",
       "    .dataframe thead th {\n",
       "        text-align: right;\n",
       "    }\n",
       "</style>\n",
       "<table border=\"1\" class=\"dataframe\">\n",
       "  <thead>\n",
       "    <tr style=\"text-align: right;\">\n",
       "      <th></th>\n",
       "      <th>Modelo</th>\n",
       "      <th>Dataset</th>\n",
       "      <th>accuracy</th>\n",
       "      <th>precision</th>\n",
       "      <th>recall</th>\n",
       "      <th>f1</th>\n",
       "      <th>auc</th>\n",
       "    </tr>\n",
       "  </thead>\n",
       "  <tbody>\n",
       "    <tr>\n",
       "      <th>0</th>\n",
       "      <td>Decision Tree</td>\n",
       "      <td>train</td>\n",
       "      <td>0.8107</td>\n",
       "      <td>0.7349</td>\n",
       "      <td>0.6630</td>\n",
       "      <td>0.6971</td>\n",
       "      <td>0.8412</td>\n",
       "    </tr>\n",
       "    <tr>\n",
       "      <th>1</th>\n",
       "      <td>Decision Tree</td>\n",
       "      <td>val</td>\n",
       "      <td>0.6702</td>\n",
       "      <td>0.5000</td>\n",
       "      <td>0.5484</td>\n",
       "      <td>0.5231</td>\n",
       "      <td>0.6613</td>\n",
       "    </tr>\n",
       "    <tr>\n",
       "      <th>2</th>\n",
       "      <td>Decision Tree</td>\n",
       "      <td>test</td>\n",
       "      <td>0.7500</td>\n",
       "      <td>0.6667</td>\n",
       "      <td>0.5714</td>\n",
       "      <td>0.6154</td>\n",
       "      <td>0.7308</td>\n",
       "    </tr>\n",
       "    <tr>\n",
       "      <th>3</th>\n",
       "      <td>Random Forest</td>\n",
       "      <td>train</td>\n",
       "      <td>0.7857</td>\n",
       "      <td>0.7759</td>\n",
       "      <td>0.4891</td>\n",
       "      <td>0.6000</td>\n",
       "      <td>0.8622</td>\n",
       "    </tr>\n",
       "    <tr>\n",
       "      <th>4</th>\n",
       "      <td>Random Forest</td>\n",
       "      <td>val</td>\n",
       "      <td>0.6277</td>\n",
       "      <td>0.4091</td>\n",
       "      <td>0.2903</td>\n",
       "      <td>0.3396</td>\n",
       "      <td>0.7087</td>\n",
       "    </tr>\n",
       "    <tr>\n",
       "      <th>5</th>\n",
       "      <td>Random Forest</td>\n",
       "      <td>test</td>\n",
       "      <td>0.6500</td>\n",
       "      <td>0.5000</td>\n",
       "      <td>0.1429</td>\n",
       "      <td>0.2222</td>\n",
       "      <td>0.7253</td>\n",
       "    </tr>\n",
       "  </tbody>\n",
       "</table>\n",
       "</div>"
      ],
      "text/plain": [
       "          Modelo Dataset  accuracy  precision  recall      f1     auc\n",
       "0  Decision Tree   train    0.8107     0.7349  0.6630  0.6971  0.8412\n",
       "1  Decision Tree     val    0.6702     0.5000  0.5484  0.5231  0.6613\n",
       "2  Decision Tree    test    0.7500     0.6667  0.5714  0.6154  0.7308\n",
       "3  Random Forest   train    0.7857     0.7759  0.4891  0.6000  0.8622\n",
       "4  Random Forest     val    0.6277     0.4091  0.2903  0.3396  0.7087\n",
       "5  Random Forest    test    0.6500     0.5000  0.1429  0.2222  0.7253"
      ]
     },
     "metadata": {},
     "output_type": "display_data"
    }
   ],
   "source": [
    "# Função para calcular todas as métricas\n",
    "def calculate_metrics(y_true, y_pred, y_prob):\n",
    "    return {\n",
    "        'accuracy': accuracy_score(y_true, y_pred),\n",
    "        'precision': precision_score(y_true, y_pred),\n",
    "        'recall': recall_score(y_true, y_pred),\n",
    "        'f1': f1_score(y_true, y_pred),\n",
    "        'auc': roc_auc_score(y_true, y_prob)\n",
    "    }\n",
    "\n",
    "# Cálculo de todas as métricas\n",
    "all_metrics = {}\n",
    "for name in models.keys():\n",
    "    all_metrics[name] = {\n",
    "        'train': calculate_metrics(y_train, predictions[name]['train'], probabilities[name]['train']),\n",
    "        'val': calculate_metrics(y_val, predictions[name]['val'], probabilities[name]['val']),\n",
    "        'test': calculate_metrics(y_test, predictions[name]['test'], probabilities[name]['test'])\n",
    "    }\n",
    "\n",
    "# Criação de DataFrame com métricas para melhor visualização\n",
    "metrics_data = []\n",
    "for model_name in models.keys():\n",
    "    for dataset in ['train', 'val', 'test']:\n",
    "        row = {'Modelo': model_name, 'Dataset': dataset}\n",
    "        row.update(all_metrics[model_name][dataset])\n",
    "        metrics_data.append(row)\n",
    "\n",
    "metrics_df = pd.DataFrame(metrics_data)\n",
    "print(\"=== MÉTRICAS COMPLETAS ===\")\n",
    "display(metrics_df.round(4))"
   ]
  },
  {
   "cell_type": "code",
   "execution_count": 100,
   "metadata": {},
   "outputs": [
    {
     "data": {
      "application/vnd.plotly.v1+json": {
       "config": {
        "plotlyServerURL": "https://plot.ly"
       },
       "data": [
        {
         "colorscale": [
          [
           0,
           "rgb(247,251,255)"
          ],
          [
           0.125,
           "rgb(222,235,247)"
          ],
          [
           0.25,
           "rgb(198,219,239)"
          ],
          [
           0.375,
           "rgb(158,202,225)"
          ],
          [
           0.5,
           "rgb(107,174,214)"
          ],
          [
           0.625,
           "rgb(66,146,198)"
          ],
          [
           0.75,
           "rgb(33,113,181)"
          ],
          [
           0.875,
           "rgb(8,81,156)"
          ],
          [
           1,
           "rgb(8,48,107)"
          ]
         ],
         "showscale": false,
         "text": [
          [
           "166<br>(88.3%)",
           "22<br>(11.7%)"
          ],
          [
           "31<br>(33.7%)",
           "61<br>(66.3%)"
          ]
         ],
         "textfont": {
          "size": 10
         },
         "texttemplate": "%{text}",
         "type": "heatmap",
         "x": [
          "Pred: Não",
          "Pred: Sim"
         ],
         "xaxis": "x",
         "y": [
          "Real: Não",
          "Real: Sim"
         ],
         "yaxis": "y",
         "z": {
          "bdata": "riAmVxATVkCO+s5GfWcnQIYsZCEL2UBAvelNb3qTUEA=",
          "dtype": "f8",
          "shape": "2, 2"
         }
        },
        {
         "colorscale": [
          [
           0,
           "rgb(247,251,255)"
          ],
          [
           0.125,
           "rgb(222,235,247)"
          ],
          [
           0.25,
           "rgb(198,219,239)"
          ],
          [
           0.375,
           "rgb(158,202,225)"
          ],
          [
           0.5,
           "rgb(107,174,214)"
          ],
          [
           0.625,
           "rgb(66,146,198)"
          ],
          [
           0.75,
           "rgb(33,113,181)"
          ],
          [
           0.875,
           "rgb(8,81,156)"
          ],
          [
           1,
           "rgb(8,48,107)"
          ]
         ],
         "showscale": false,
         "text": [
          [
           "46<br>(73.0%)",
           "17<br>(27.0%)"
          ],
          [
           "14<br>(45.2%)",
           "17<br>(54.8%)"
          ]
         ],
         "textfont": {
          "size": 10
         },
         "texttemplate": "%{text}",
         "type": "heatmap",
         "x": [
          "Pred: Não",
          "Pred: Sim"
         ],
         "xaxis": "x2",
         "y": [
          "Real: Não",
          "Real: Sim"
         ],
         "yaxis": "y2",
         "z": {
          "bdata": "EARBEARBUkC/7/u+7/s6QJRSSimllEZAa6211lprS0A=",
          "dtype": "f8",
          "shape": "2, 2"
         }
        },
        {
         "colorscale": [
          [
           0,
           "rgb(247,251,255)"
          ],
          [
           0.125,
           "rgb(222,235,247)"
          ],
          [
           0.25,
           "rgb(198,219,239)"
          ],
          [
           0.375,
           "rgb(158,202,225)"
          ],
          [
           0.5,
           "rgb(107,174,214)"
          ],
          [
           0.625,
           "rgb(66,146,198)"
          ],
          [
           0.75,
           "rgb(33,113,181)"
          ],
          [
           0.875,
           "rgb(8,81,156)"
          ],
          [
           1,
           "rgb(8,48,107)"
          ]
         ],
         "showscale": false,
         "text": [
          [
           "11<br>(84.6%)",
           "2<br>(15.4%)"
          ],
          [
           "3<br>(42.9%)",
           "4<br>(57.1%)"
          ]
         ],
         "textfont": {
          "size": 10
         },
         "texttemplate": "%{text}",
         "type": "heatmap",
         "x": [
          "Pred: Não",
          "Pred: Sim"
         ],
         "xaxis": "x3",
         "y": [
          "Real: Não",
          "Real: Sim"
         ],
         "yaxis": "y3",
         "z": {
          "bdata": "dmIndmInVUBP7MRO7MQuQNu2bdu2bUVAJEmSJEmSTEA=",
          "dtype": "f8",
          "shape": "2, 2"
         }
        },
        {
         "colorscale": [
          [
           0,
           "rgb(247,251,255)"
          ],
          [
           0.125,
           "rgb(222,235,247)"
          ],
          [
           0.25,
           "rgb(198,219,239)"
          ],
          [
           0.375,
           "rgb(158,202,225)"
          ],
          [
           0.5,
           "rgb(107,174,214)"
          ],
          [
           0.625,
           "rgb(66,146,198)"
          ],
          [
           0.75,
           "rgb(33,113,181)"
          ],
          [
           0.875,
           "rgb(8,81,156)"
          ],
          [
           1,
           "rgb(8,48,107)"
          ]
         ],
         "showscale": false,
         "text": [
          [
           "175<br>(93.1%)",
           "13<br>(6.9%)"
          ],
          [
           "47<br>(51.1%)",
           "45<br>(48.9%)"
          ]
         ],
         "textfont": {
          "size": 10
         },
         "texttemplate": "%{text}",
         "type": "heatmap",
         "x": [
          "Pred: Não",
          "Pred: Sim"
         ],
         "xaxis": "x4",
         "y": [
          "Real: Não",
          "Real: Sim"
         ],
         "yaxis": "y4",
         "z": {
          "bdata": "xOQKYnJFV0C/s1Hf2agbQJGFLGQhi0lAb3rTm950SEA=",
          "dtype": "f8",
          "shape": "2, 2"
         }
        },
        {
         "colorscale": [
          [
           0,
           "rgb(247,251,255)"
          ],
          [
           0.125,
           "rgb(222,235,247)"
          ],
          [
           0.25,
           "rgb(198,219,239)"
          ],
          [
           0.375,
           "rgb(158,202,225)"
          ],
          [
           0.5,
           "rgb(107,174,214)"
          ],
          [
           0.625,
           "rgb(66,146,198)"
          ],
          [
           0.75,
           "rgb(33,113,181)"
          ],
          [
           0.875,
           "rgb(8,81,156)"
          ],
          [
           1,
           "rgb(8,48,107)"
          ]
         ],
         "showscale": false,
         "text": [
          [
           "50<br>(79.4%)",
           "13<br>(20.6%)"
          ],
          [
           "22<br>(71.0%)",
           "9<br>(29.0%)"
          ]
         ],
         "textfont": {
          "size": 10
         },
         "texttemplate": "%{text}",
         "type": "heatmap",
         "x": [
          "Pred: Não",
          "Pred: Sim"
         ],
         "xaxis": "x5",
         "y": [
          "Real: Não",
          "Real: Sim"
         ],
         "yaxis": "y5",
         "z": {
          "bdata": "dl3XdV3XU0AoiqIoiqI0QL733nvvvVFACSGEEEIIPUA=",
          "dtype": "f8",
          "shape": "2, 2"
         }
        },
        {
         "colorscale": [
          [
           0,
           "rgb(247,251,255)"
          ],
          [
           0.125,
           "rgb(222,235,247)"
          ],
          [
           0.25,
           "rgb(198,219,239)"
          ],
          [
           0.375,
           "rgb(158,202,225)"
          ],
          [
           0.5,
           "rgb(107,174,214)"
          ],
          [
           0.625,
           "rgb(66,146,198)"
          ],
          [
           0.75,
           "rgb(33,113,181)"
          ],
          [
           0.875,
           "rgb(8,81,156)"
          ],
          [
           1,
           "rgb(8,48,107)"
          ]
         ],
         "showscale": false,
         "text": [
          [
           "12<br>(92.3%)",
           "1<br>(7.7%)"
          ],
          [
           "6<br>(85.7%)",
           "1<br>(14.3%)"
          ]
         ],
         "textfont": {
          "size": 10
         },
         "texttemplate": "%{text}",
         "type": "heatmap",
         "x": [
          "Pred: Não",
          "Pred: Sim"
         ],
         "xaxis": "x6",
         "y": [
          "Real: Não",
          "Real: Sim"
         ],
         "yaxis": "y6",
         "z": {
          "bdata": "O7ETO7ETV0BP7MRO7MQeQNu2bdu2bVVAJEmSJEmSLEA=",
          "dtype": "f8",
          "shape": "2, 2"
         }
        }
       ],
       "layout": {
        "annotations": [
         {
          "font": {
           "size": 16
          },
          "showarrow": false,
          "text": "DT - Treino",
          "x": 0.14444444444444446,
          "xanchor": "center",
          "xref": "paper",
          "y": 1,
          "yanchor": "bottom",
          "yref": "paper"
         },
         {
          "font": {
           "size": 16
          },
          "showarrow": false,
          "text": "DT - Validação",
          "x": 0.5,
          "xanchor": "center",
          "xref": "paper",
          "y": 1,
          "yanchor": "bottom",
          "yref": "paper"
         },
         {
          "font": {
           "size": 16
          },
          "showarrow": false,
          "text": "DT - Teste",
          "x": 0.8555555555555556,
          "xanchor": "center",
          "xref": "paper",
          "y": 1,
          "yanchor": "bottom",
          "yref": "paper"
         },
         {
          "font": {
           "size": 16
          },
          "showarrow": false,
          "text": "RF - Treino",
          "x": 0.14444444444444446,
          "xanchor": "center",
          "xref": "paper",
          "y": 0.375,
          "yanchor": "bottom",
          "yref": "paper"
         },
         {
          "font": {
           "size": 16
          },
          "showarrow": false,
          "text": "RF - Validação",
          "x": 0.5,
          "xanchor": "center",
          "xref": "paper",
          "y": 0.375,
          "yanchor": "bottom",
          "yref": "paper"
         },
         {
          "font": {
           "size": 16
          },
          "showarrow": false,
          "text": "RF - Teste",
          "x": 0.8555555555555556,
          "xanchor": "center",
          "xref": "paper",
          "y": 0.375,
          "yanchor": "bottom",
          "yref": "paper"
         }
        ],
        "height": 600,
        "template": {
         "data": {
          "bar": [
           {
            "error_x": {
             "color": "#2a3f5f"
            },
            "error_y": {
             "color": "#2a3f5f"
            },
            "marker": {
             "line": {
              "color": "#E5ECF6",
              "width": 0.5
             },
             "pattern": {
              "fillmode": "overlay",
              "size": 10,
              "solidity": 0.2
             }
            },
            "type": "bar"
           }
          ],
          "barpolar": [
           {
            "marker": {
             "line": {
              "color": "#E5ECF6",
              "width": 0.5
             },
             "pattern": {
              "fillmode": "overlay",
              "size": 10,
              "solidity": 0.2
             }
            },
            "type": "barpolar"
           }
          ],
          "carpet": [
           {
            "aaxis": {
             "endlinecolor": "#2a3f5f",
             "gridcolor": "white",
             "linecolor": "white",
             "minorgridcolor": "white",
             "startlinecolor": "#2a3f5f"
            },
            "baxis": {
             "endlinecolor": "#2a3f5f",
             "gridcolor": "white",
             "linecolor": "white",
             "minorgridcolor": "white",
             "startlinecolor": "#2a3f5f"
            },
            "type": "carpet"
           }
          ],
          "choropleth": [
           {
            "colorbar": {
             "outlinewidth": 0,
             "ticks": ""
            },
            "type": "choropleth"
           }
          ],
          "contour": [
           {
            "colorbar": {
             "outlinewidth": 0,
             "ticks": ""
            },
            "colorscale": [
             [
              0,
              "#0d0887"
             ],
             [
              0.1111111111111111,
              "#46039f"
             ],
             [
              0.2222222222222222,
              "#7201a8"
             ],
             [
              0.3333333333333333,
              "#9c179e"
             ],
             [
              0.4444444444444444,
              "#bd3786"
             ],
             [
              0.5555555555555556,
              "#d8576b"
             ],
             [
              0.6666666666666666,
              "#ed7953"
             ],
             [
              0.7777777777777778,
              "#fb9f3a"
             ],
             [
              0.8888888888888888,
              "#fdca26"
             ],
             [
              1,
              "#f0f921"
             ]
            ],
            "type": "contour"
           }
          ],
          "contourcarpet": [
           {
            "colorbar": {
             "outlinewidth": 0,
             "ticks": ""
            },
            "type": "contourcarpet"
           }
          ],
          "heatmap": [
           {
            "colorbar": {
             "outlinewidth": 0,
             "ticks": ""
            },
            "colorscale": [
             [
              0,
              "#0d0887"
             ],
             [
              0.1111111111111111,
              "#46039f"
             ],
             [
              0.2222222222222222,
              "#7201a8"
             ],
             [
              0.3333333333333333,
              "#9c179e"
             ],
             [
              0.4444444444444444,
              "#bd3786"
             ],
             [
              0.5555555555555556,
              "#d8576b"
             ],
             [
              0.6666666666666666,
              "#ed7953"
             ],
             [
              0.7777777777777778,
              "#fb9f3a"
             ],
             [
              0.8888888888888888,
              "#fdca26"
             ],
             [
              1,
              "#f0f921"
             ]
            ],
            "type": "heatmap"
           }
          ],
          "histogram": [
           {
            "marker": {
             "pattern": {
              "fillmode": "overlay",
              "size": 10,
              "solidity": 0.2
             }
            },
            "type": "histogram"
           }
          ],
          "histogram2d": [
           {
            "colorbar": {
             "outlinewidth": 0,
             "ticks": ""
            },
            "colorscale": [
             [
              0,
              "#0d0887"
             ],
             [
              0.1111111111111111,
              "#46039f"
             ],
             [
              0.2222222222222222,
              "#7201a8"
             ],
             [
              0.3333333333333333,
              "#9c179e"
             ],
             [
              0.4444444444444444,
              "#bd3786"
             ],
             [
              0.5555555555555556,
              "#d8576b"
             ],
             [
              0.6666666666666666,
              "#ed7953"
             ],
             [
              0.7777777777777778,
              "#fb9f3a"
             ],
             [
              0.8888888888888888,
              "#fdca26"
             ],
             [
              1,
              "#f0f921"
             ]
            ],
            "type": "histogram2d"
           }
          ],
          "histogram2dcontour": [
           {
            "colorbar": {
             "outlinewidth": 0,
             "ticks": ""
            },
            "colorscale": [
             [
              0,
              "#0d0887"
             ],
             [
              0.1111111111111111,
              "#46039f"
             ],
             [
              0.2222222222222222,
              "#7201a8"
             ],
             [
              0.3333333333333333,
              "#9c179e"
             ],
             [
              0.4444444444444444,
              "#bd3786"
             ],
             [
              0.5555555555555556,
              "#d8576b"
             ],
             [
              0.6666666666666666,
              "#ed7953"
             ],
             [
              0.7777777777777778,
              "#fb9f3a"
             ],
             [
              0.8888888888888888,
              "#fdca26"
             ],
             [
              1,
              "#f0f921"
             ]
            ],
            "type": "histogram2dcontour"
           }
          ],
          "mesh3d": [
           {
            "colorbar": {
             "outlinewidth": 0,
             "ticks": ""
            },
            "type": "mesh3d"
           }
          ],
          "parcoords": [
           {
            "line": {
             "colorbar": {
              "outlinewidth": 0,
              "ticks": ""
             }
            },
            "type": "parcoords"
           }
          ],
          "pie": [
           {
            "automargin": true,
            "type": "pie"
           }
          ],
          "scatter": [
           {
            "fillpattern": {
             "fillmode": "overlay",
             "size": 10,
             "solidity": 0.2
            },
            "type": "scatter"
           }
          ],
          "scatter3d": [
           {
            "line": {
             "colorbar": {
              "outlinewidth": 0,
              "ticks": ""
             }
            },
            "marker": {
             "colorbar": {
              "outlinewidth": 0,
              "ticks": ""
             }
            },
            "type": "scatter3d"
           }
          ],
          "scattercarpet": [
           {
            "marker": {
             "colorbar": {
              "outlinewidth": 0,
              "ticks": ""
             }
            },
            "type": "scattercarpet"
           }
          ],
          "scattergeo": [
           {
            "marker": {
             "colorbar": {
              "outlinewidth": 0,
              "ticks": ""
             }
            },
            "type": "scattergeo"
           }
          ],
          "scattergl": [
           {
            "marker": {
             "colorbar": {
              "outlinewidth": 0,
              "ticks": ""
             }
            },
            "type": "scattergl"
           }
          ],
          "scattermap": [
           {
            "marker": {
             "colorbar": {
              "outlinewidth": 0,
              "ticks": ""
             }
            },
            "type": "scattermap"
           }
          ],
          "scattermapbox": [
           {
            "marker": {
             "colorbar": {
              "outlinewidth": 0,
              "ticks": ""
             }
            },
            "type": "scattermapbox"
           }
          ],
          "scatterpolar": [
           {
            "marker": {
             "colorbar": {
              "outlinewidth": 0,
              "ticks": ""
             }
            },
            "type": "scatterpolar"
           }
          ],
          "scatterpolargl": [
           {
            "marker": {
             "colorbar": {
              "outlinewidth": 0,
              "ticks": ""
             }
            },
            "type": "scatterpolargl"
           }
          ],
          "scatterternary": [
           {
            "marker": {
             "colorbar": {
              "outlinewidth": 0,
              "ticks": ""
             }
            },
            "type": "scatterternary"
           }
          ],
          "surface": [
           {
            "colorbar": {
             "outlinewidth": 0,
             "ticks": ""
            },
            "colorscale": [
             [
              0,
              "#0d0887"
             ],
             [
              0.1111111111111111,
              "#46039f"
             ],
             [
              0.2222222222222222,
              "#7201a8"
             ],
             [
              0.3333333333333333,
              "#9c179e"
             ],
             [
              0.4444444444444444,
              "#bd3786"
             ],
             [
              0.5555555555555556,
              "#d8576b"
             ],
             [
              0.6666666666666666,
              "#ed7953"
             ],
             [
              0.7777777777777778,
              "#fb9f3a"
             ],
             [
              0.8888888888888888,
              "#fdca26"
             ],
             [
              1,
              "#f0f921"
             ]
            ],
            "type": "surface"
           }
          ],
          "table": [
           {
            "cells": {
             "fill": {
              "color": "#EBF0F8"
             },
             "line": {
              "color": "white"
             }
            },
            "header": {
             "fill": {
              "color": "#C8D4E3"
             },
             "line": {
              "color": "white"
             }
            },
            "type": "table"
           }
          ]
         },
         "layout": {
          "annotationdefaults": {
           "arrowcolor": "#2a3f5f",
           "arrowhead": 0,
           "arrowwidth": 1
          },
          "autotypenumbers": "strict",
          "coloraxis": {
           "colorbar": {
            "outlinewidth": 0,
            "ticks": ""
           }
          },
          "colorscale": {
           "diverging": [
            [
             0,
             "#8e0152"
            ],
            [
             0.1,
             "#c51b7d"
            ],
            [
             0.2,
             "#de77ae"
            ],
            [
             0.3,
             "#f1b6da"
            ],
            [
             0.4,
             "#fde0ef"
            ],
            [
             0.5,
             "#f7f7f7"
            ],
            [
             0.6,
             "#e6f5d0"
            ],
            [
             0.7,
             "#b8e186"
            ],
            [
             0.8,
             "#7fbc41"
            ],
            [
             0.9,
             "#4d9221"
            ],
            [
             1,
             "#276419"
            ]
           ],
           "sequential": [
            [
             0,
             "#0d0887"
            ],
            [
             0.1111111111111111,
             "#46039f"
            ],
            [
             0.2222222222222222,
             "#7201a8"
            ],
            [
             0.3333333333333333,
             "#9c179e"
            ],
            [
             0.4444444444444444,
             "#bd3786"
            ],
            [
             0.5555555555555556,
             "#d8576b"
            ],
            [
             0.6666666666666666,
             "#ed7953"
            ],
            [
             0.7777777777777778,
             "#fb9f3a"
            ],
            [
             0.8888888888888888,
             "#fdca26"
            ],
            [
             1,
             "#f0f921"
            ]
           ],
           "sequentialminus": [
            [
             0,
             "#0d0887"
            ],
            [
             0.1111111111111111,
             "#46039f"
            ],
            [
             0.2222222222222222,
             "#7201a8"
            ],
            [
             0.3333333333333333,
             "#9c179e"
            ],
            [
             0.4444444444444444,
             "#bd3786"
            ],
            [
             0.5555555555555556,
             "#d8576b"
            ],
            [
             0.6666666666666666,
             "#ed7953"
            ],
            [
             0.7777777777777778,
             "#fb9f3a"
            ],
            [
             0.8888888888888888,
             "#fdca26"
            ],
            [
             1,
             "#f0f921"
            ]
           ]
          },
          "colorway": [
           "#636efa",
           "#EF553B",
           "#00cc96",
           "#ab63fa",
           "#FFA15A",
           "#19d3f3",
           "#FF6692",
           "#B6E880",
           "#FF97FF",
           "#FECB52"
          ],
          "font": {
           "color": "#2a3f5f"
          },
          "geo": {
           "bgcolor": "white",
           "lakecolor": "white",
           "landcolor": "#E5ECF6",
           "showlakes": true,
           "showland": true,
           "subunitcolor": "white"
          },
          "hoverlabel": {
           "align": "left"
          },
          "hovermode": "closest",
          "mapbox": {
           "style": "light"
          },
          "paper_bgcolor": "white",
          "plot_bgcolor": "#E5ECF6",
          "polar": {
           "angularaxis": {
            "gridcolor": "white",
            "linecolor": "white",
            "ticks": ""
           },
           "bgcolor": "#E5ECF6",
           "radialaxis": {
            "gridcolor": "white",
            "linecolor": "white",
            "ticks": ""
           }
          },
          "scene": {
           "xaxis": {
            "backgroundcolor": "#E5ECF6",
            "gridcolor": "white",
            "gridwidth": 2,
            "linecolor": "white",
            "showbackground": true,
            "ticks": "",
            "zerolinecolor": "white"
           },
           "yaxis": {
            "backgroundcolor": "#E5ECF6",
            "gridcolor": "white",
            "gridwidth": 2,
            "linecolor": "white",
            "showbackground": true,
            "ticks": "",
            "zerolinecolor": "white"
           },
           "zaxis": {
            "backgroundcolor": "#E5ECF6",
            "gridcolor": "white",
            "gridwidth": 2,
            "linecolor": "white",
            "showbackground": true,
            "ticks": "",
            "zerolinecolor": "white"
           }
          },
          "shapedefaults": {
           "line": {
            "color": "#2a3f5f"
           }
          },
          "ternary": {
           "aaxis": {
            "gridcolor": "white",
            "linecolor": "white",
            "ticks": ""
           },
           "baxis": {
            "gridcolor": "white",
            "linecolor": "white",
            "ticks": ""
           },
           "bgcolor": "#E5ECF6",
           "caxis": {
            "gridcolor": "white",
            "linecolor": "white",
            "ticks": ""
           }
          },
          "title": {
           "x": 0.05
          },
          "xaxis": {
           "automargin": true,
           "gridcolor": "white",
           "linecolor": "white",
           "ticks": "",
           "title": {
            "standoff": 15
           },
           "zerolinecolor": "white",
           "zerolinewidth": 2
          },
          "yaxis": {
           "automargin": true,
           "gridcolor": "white",
           "linecolor": "white",
           "ticks": "",
           "title": {
            "standoff": 15
           },
           "zerolinecolor": "white",
           "zerolinewidth": 2
          }
         }
        },
        "title": {
         "text": "Matrizes de Confusão - Comparação dos Modelos"
        },
        "xaxis": {
         "anchor": "y",
         "domain": [
          0,
          0.2888888888888889
         ]
        },
        "xaxis2": {
         "anchor": "y2",
         "domain": [
          0.35555555555555557,
          0.6444444444444445
         ]
        },
        "xaxis3": {
         "anchor": "y3",
         "domain": [
          0.7111111111111111,
          1
         ]
        },
        "xaxis4": {
         "anchor": "y4",
         "domain": [
          0,
          0.2888888888888889
         ]
        },
        "xaxis5": {
         "anchor": "y5",
         "domain": [
          0.35555555555555557,
          0.6444444444444445
         ]
        },
        "xaxis6": {
         "anchor": "y6",
         "domain": [
          0.7111111111111111,
          1
         ]
        },
        "yaxis": {
         "anchor": "x",
         "domain": [
          0.625,
          1
         ]
        },
        "yaxis2": {
         "anchor": "x2",
         "domain": [
          0.625,
          1
         ]
        },
        "yaxis3": {
         "anchor": "x3",
         "domain": [
          0.625,
          1
         ]
        },
        "yaxis4": {
         "anchor": "x4",
         "domain": [
          0,
          0.375
         ]
        },
        "yaxis5": {
         "anchor": "x5",
         "domain": [
          0,
          0.375
         ]
        },
        "yaxis6": {
         "anchor": "x6",
         "domain": [
          0,
          0.375
         ]
        }
       }
      }
     },
     "metadata": {},
     "output_type": "display_data"
    }
   ],
   "source": [
    "# Matrizes de Confusão\n",
    "fig = make_subplots(\n",
    "    rows=2, cols=3,\n",
    "    subplot_titles=[\n",
    "        'DT - Treino', 'DT - Validação', 'DT - Teste',\n",
    "        'RF - Treino', 'RF - Validação', 'RF - Teste'\n",
    "    ],\n",
    "    specs=[[{\"type\": \"heatmap\"}]*3]*2\n",
    ")\n",
    "\n",
    "datasets = [('train', y_train), ('val', y_val), ('test', y_test)]\n",
    "model_names = ['Decision Tree', 'Random Forest']\n",
    "\n",
    "for i, model_name in enumerate(model_names):\n",
    "    for j, (dataset_name, y_true) in enumerate(datasets):\n",
    "        cm = confusion_matrix(y_true, predictions[model_name][dataset_name])\n",
    "        \n",
    "        # Normalizar para percentuais\n",
    "        cm_norm = cm.astype('float') / cm.sum(axis=1)[:, np.newaxis] * 100\n",
    "        \n",
    "        fig.add_trace(\n",
    "            go.Heatmap(\n",
    "                z=cm_norm,\n",
    "                x=['Pred: Não', 'Pred: Sim'],\n",
    "                y=['Real: Não', 'Real: Sim'],\n",
    "                colorscale='Blues',\n",
    "                text=[[f'{cm[0,0]}<br>({cm_norm[0,0]:.1f}%)', f'{cm[0,1]}<br>({cm_norm[0,1]:.1f}%)'],\n",
    "                      [f'{cm[1,0]}<br>({cm_norm[1,0]:.1f}%)', f'{cm[1,1]}<br>({cm_norm[1,1]:.1f}%)']],\n",
    "                texttemplate=\"%{text}\",\n",
    "                textfont={\"size\": 10},\n",
    "                showscale=False\n",
    "            ),\n",
    "            row=i+1, col=j+1\n",
    "        )\n",
    "\n",
    "fig.update_layout(\n",
    "    title_text=\"Matrizes de Confusão - Comparação dos Modelos\",\n",
    "    height=600\n",
    ")\n",
    "\n",
    "fig.show()\n",
    "fig.write_html('matrizes_confusao.html')"
   ]
  },
  {
   "cell_type": "code",
   "execution_count": 101,
   "metadata": {},
   "outputs": [
    {
     "data": {
      "application/vnd.plotly.v1+json": {
       "config": {
        "plotlyServerURL": "https://plot.ly"
       },
       "data": [
        {
         "marker": {
          "color": "#1f77b4"
         },
         "name": "Decision Tree",
         "text": [
          "0.750",
          "0.667",
          "0.571",
          "0.615",
          "0.731"
         ],
         "textposition": "auto",
         "type": "bar",
         "x": [
          "accuracy",
          "precision",
          "recall",
          "f1",
          "auc"
         ],
         "y": [
          0.75,
          0.6666666666666666,
          0.5714285714285714,
          0.6153846153846154,
          0.7307692307692308
         ]
        },
        {
         "marker": {
          "color": "#ff7f0e"
         },
         "name": "Random Forest",
         "text": [
          "0.650",
          "0.500",
          "0.143",
          "0.222",
          "0.725"
         ],
         "textposition": "auto",
         "type": "bar",
         "x": [
          "accuracy",
          "precision",
          "recall",
          "f1",
          "auc"
         ],
         "y": [
          0.65,
          0.5,
          0.14285714285714285,
          0.2222222222222222,
          0.7252747252747253
         ]
        }
       ],
       "layout": {
        "barmode": "group",
        "template": {
         "data": {
          "bar": [
           {
            "error_x": {
             "color": "#2a3f5f"
            },
            "error_y": {
             "color": "#2a3f5f"
            },
            "marker": {
             "line": {
              "color": "#E5ECF6",
              "width": 0.5
             },
             "pattern": {
              "fillmode": "overlay",
              "size": 10,
              "solidity": 0.2
             }
            },
            "type": "bar"
           }
          ],
          "barpolar": [
           {
            "marker": {
             "line": {
              "color": "#E5ECF6",
              "width": 0.5
             },
             "pattern": {
              "fillmode": "overlay",
              "size": 10,
              "solidity": 0.2
             }
            },
            "type": "barpolar"
           }
          ],
          "carpet": [
           {
            "aaxis": {
             "endlinecolor": "#2a3f5f",
             "gridcolor": "white",
             "linecolor": "white",
             "minorgridcolor": "white",
             "startlinecolor": "#2a3f5f"
            },
            "baxis": {
             "endlinecolor": "#2a3f5f",
             "gridcolor": "white",
             "linecolor": "white",
             "minorgridcolor": "white",
             "startlinecolor": "#2a3f5f"
            },
            "type": "carpet"
           }
          ],
          "choropleth": [
           {
            "colorbar": {
             "outlinewidth": 0,
             "ticks": ""
            },
            "type": "choropleth"
           }
          ],
          "contour": [
           {
            "colorbar": {
             "outlinewidth": 0,
             "ticks": ""
            },
            "colorscale": [
             [
              0,
              "#0d0887"
             ],
             [
              0.1111111111111111,
              "#46039f"
             ],
             [
              0.2222222222222222,
              "#7201a8"
             ],
             [
              0.3333333333333333,
              "#9c179e"
             ],
             [
              0.4444444444444444,
              "#bd3786"
             ],
             [
              0.5555555555555556,
              "#d8576b"
             ],
             [
              0.6666666666666666,
              "#ed7953"
             ],
             [
              0.7777777777777778,
              "#fb9f3a"
             ],
             [
              0.8888888888888888,
              "#fdca26"
             ],
             [
              1,
              "#f0f921"
             ]
            ],
            "type": "contour"
           }
          ],
          "contourcarpet": [
           {
            "colorbar": {
             "outlinewidth": 0,
             "ticks": ""
            },
            "type": "contourcarpet"
           }
          ],
          "heatmap": [
           {
            "colorbar": {
             "outlinewidth": 0,
             "ticks": ""
            },
            "colorscale": [
             [
              0,
              "#0d0887"
             ],
             [
              0.1111111111111111,
              "#46039f"
             ],
             [
              0.2222222222222222,
              "#7201a8"
             ],
             [
              0.3333333333333333,
              "#9c179e"
             ],
             [
              0.4444444444444444,
              "#bd3786"
             ],
             [
              0.5555555555555556,
              "#d8576b"
             ],
             [
              0.6666666666666666,
              "#ed7953"
             ],
             [
              0.7777777777777778,
              "#fb9f3a"
             ],
             [
              0.8888888888888888,
              "#fdca26"
             ],
             [
              1,
              "#f0f921"
             ]
            ],
            "type": "heatmap"
           }
          ],
          "histogram": [
           {
            "marker": {
             "pattern": {
              "fillmode": "overlay",
              "size": 10,
              "solidity": 0.2
             }
            },
            "type": "histogram"
           }
          ],
          "histogram2d": [
           {
            "colorbar": {
             "outlinewidth": 0,
             "ticks": ""
            },
            "colorscale": [
             [
              0,
              "#0d0887"
             ],
             [
              0.1111111111111111,
              "#46039f"
             ],
             [
              0.2222222222222222,
              "#7201a8"
             ],
             [
              0.3333333333333333,
              "#9c179e"
             ],
             [
              0.4444444444444444,
              "#bd3786"
             ],
             [
              0.5555555555555556,
              "#d8576b"
             ],
             [
              0.6666666666666666,
              "#ed7953"
             ],
             [
              0.7777777777777778,
              "#fb9f3a"
             ],
             [
              0.8888888888888888,
              "#fdca26"
             ],
             [
              1,
              "#f0f921"
             ]
            ],
            "type": "histogram2d"
           }
          ],
          "histogram2dcontour": [
           {
            "colorbar": {
             "outlinewidth": 0,
             "ticks": ""
            },
            "colorscale": [
             [
              0,
              "#0d0887"
             ],
             [
              0.1111111111111111,
              "#46039f"
             ],
             [
              0.2222222222222222,
              "#7201a8"
             ],
             [
              0.3333333333333333,
              "#9c179e"
             ],
             [
              0.4444444444444444,
              "#bd3786"
             ],
             [
              0.5555555555555556,
              "#d8576b"
             ],
             [
              0.6666666666666666,
              "#ed7953"
             ],
             [
              0.7777777777777778,
              "#fb9f3a"
             ],
             [
              0.8888888888888888,
              "#fdca26"
             ],
             [
              1,
              "#f0f921"
             ]
            ],
            "type": "histogram2dcontour"
           }
          ],
          "mesh3d": [
           {
            "colorbar": {
             "outlinewidth": 0,
             "ticks": ""
            },
            "type": "mesh3d"
           }
          ],
          "parcoords": [
           {
            "line": {
             "colorbar": {
              "outlinewidth": 0,
              "ticks": ""
             }
            },
            "type": "parcoords"
           }
          ],
          "pie": [
           {
            "automargin": true,
            "type": "pie"
           }
          ],
          "scatter": [
           {
            "fillpattern": {
             "fillmode": "overlay",
             "size": 10,
             "solidity": 0.2
            },
            "type": "scatter"
           }
          ],
          "scatter3d": [
           {
            "line": {
             "colorbar": {
              "outlinewidth": 0,
              "ticks": ""
             }
            },
            "marker": {
             "colorbar": {
              "outlinewidth": 0,
              "ticks": ""
             }
            },
            "type": "scatter3d"
           }
          ],
          "scattercarpet": [
           {
            "marker": {
             "colorbar": {
              "outlinewidth": 0,
              "ticks": ""
             }
            },
            "type": "scattercarpet"
           }
          ],
          "scattergeo": [
           {
            "marker": {
             "colorbar": {
              "outlinewidth": 0,
              "ticks": ""
             }
            },
            "type": "scattergeo"
           }
          ],
          "scattergl": [
           {
            "marker": {
             "colorbar": {
              "outlinewidth": 0,
              "ticks": ""
             }
            },
            "type": "scattergl"
           }
          ],
          "scattermap": [
           {
            "marker": {
             "colorbar": {
              "outlinewidth": 0,
              "ticks": ""
             }
            },
            "type": "scattermap"
           }
          ],
          "scattermapbox": [
           {
            "marker": {
             "colorbar": {
              "outlinewidth": 0,
              "ticks": ""
             }
            },
            "type": "scattermapbox"
           }
          ],
          "scatterpolar": [
           {
            "marker": {
             "colorbar": {
              "outlinewidth": 0,
              "ticks": ""
             }
            },
            "type": "scatterpolar"
           }
          ],
          "scatterpolargl": [
           {
            "marker": {
             "colorbar": {
              "outlinewidth": 0,
              "ticks": ""
             }
            },
            "type": "scatterpolargl"
           }
          ],
          "scatterternary": [
           {
            "marker": {
             "colorbar": {
              "outlinewidth": 0,
              "ticks": ""
             }
            },
            "type": "scatterternary"
           }
          ],
          "surface": [
           {
            "colorbar": {
             "outlinewidth": 0,
             "ticks": ""
            },
            "colorscale": [
             [
              0,
              "#0d0887"
             ],
             [
              0.1111111111111111,
              "#46039f"
             ],
             [
              0.2222222222222222,
              "#7201a8"
             ],
             [
              0.3333333333333333,
              "#9c179e"
             ],
             [
              0.4444444444444444,
              "#bd3786"
             ],
             [
              0.5555555555555556,
              "#d8576b"
             ],
             [
              0.6666666666666666,
              "#ed7953"
             ],
             [
              0.7777777777777778,
              "#fb9f3a"
             ],
             [
              0.8888888888888888,
              "#fdca26"
             ],
             [
              1,
              "#f0f921"
             ]
            ],
            "type": "surface"
           }
          ],
          "table": [
           {
            "cells": {
             "fill": {
              "color": "#EBF0F8"
             },
             "line": {
              "color": "white"
             }
            },
            "header": {
             "fill": {
              "color": "#C8D4E3"
             },
             "line": {
              "color": "white"
             }
            },
            "type": "table"
           }
          ]
         },
         "layout": {
          "annotationdefaults": {
           "arrowcolor": "#2a3f5f",
           "arrowhead": 0,
           "arrowwidth": 1
          },
          "autotypenumbers": "strict",
          "coloraxis": {
           "colorbar": {
            "outlinewidth": 0,
            "ticks": ""
           }
          },
          "colorscale": {
           "diverging": [
            [
             0,
             "#8e0152"
            ],
            [
             0.1,
             "#c51b7d"
            ],
            [
             0.2,
             "#de77ae"
            ],
            [
             0.3,
             "#f1b6da"
            ],
            [
             0.4,
             "#fde0ef"
            ],
            [
             0.5,
             "#f7f7f7"
            ],
            [
             0.6,
             "#e6f5d0"
            ],
            [
             0.7,
             "#b8e186"
            ],
            [
             0.8,
             "#7fbc41"
            ],
            [
             0.9,
             "#4d9221"
            ],
            [
             1,
             "#276419"
            ]
           ],
           "sequential": [
            [
             0,
             "#0d0887"
            ],
            [
             0.1111111111111111,
             "#46039f"
            ],
            [
             0.2222222222222222,
             "#7201a8"
            ],
            [
             0.3333333333333333,
             "#9c179e"
            ],
            [
             0.4444444444444444,
             "#bd3786"
            ],
            [
             0.5555555555555556,
             "#d8576b"
            ],
            [
             0.6666666666666666,
             "#ed7953"
            ],
            [
             0.7777777777777778,
             "#fb9f3a"
            ],
            [
             0.8888888888888888,
             "#fdca26"
            ],
            [
             1,
             "#f0f921"
            ]
           ],
           "sequentialminus": [
            [
             0,
             "#0d0887"
            ],
            [
             0.1111111111111111,
             "#46039f"
            ],
            [
             0.2222222222222222,
             "#7201a8"
            ],
            [
             0.3333333333333333,
             "#9c179e"
            ],
            [
             0.4444444444444444,
             "#bd3786"
            ],
            [
             0.5555555555555556,
             "#d8576b"
            ],
            [
             0.6666666666666666,
             "#ed7953"
            ],
            [
             0.7777777777777778,
             "#fb9f3a"
            ],
            [
             0.8888888888888888,
             "#fdca26"
            ],
            [
             1,
             "#f0f921"
            ]
           ]
          },
          "colorway": [
           "#636efa",
           "#EF553B",
           "#00cc96",
           "#ab63fa",
           "#FFA15A",
           "#19d3f3",
           "#FF6692",
           "#B6E880",
           "#FF97FF",
           "#FECB52"
          ],
          "font": {
           "color": "#2a3f5f"
          },
          "geo": {
           "bgcolor": "white",
           "lakecolor": "white",
           "landcolor": "#E5ECF6",
           "showlakes": true,
           "showland": true,
           "subunitcolor": "white"
          },
          "hoverlabel": {
           "align": "left"
          },
          "hovermode": "closest",
          "mapbox": {
           "style": "light"
          },
          "paper_bgcolor": "white",
          "plot_bgcolor": "#E5ECF6",
          "polar": {
           "angularaxis": {
            "gridcolor": "white",
            "linecolor": "white",
            "ticks": ""
           },
           "bgcolor": "#E5ECF6",
           "radialaxis": {
            "gridcolor": "white",
            "linecolor": "white",
            "ticks": ""
           }
          },
          "scene": {
           "xaxis": {
            "backgroundcolor": "#E5ECF6",
            "gridcolor": "white",
            "gridwidth": 2,
            "linecolor": "white",
            "showbackground": true,
            "ticks": "",
            "zerolinecolor": "white"
           },
           "yaxis": {
            "backgroundcolor": "#E5ECF6",
            "gridcolor": "white",
            "gridwidth": 2,
            "linecolor": "white",
            "showbackground": true,
            "ticks": "",
            "zerolinecolor": "white"
           },
           "zaxis": {
            "backgroundcolor": "#E5ECF6",
            "gridcolor": "white",
            "gridwidth": 2,
            "linecolor": "white",
            "showbackground": true,
            "ticks": "",
            "zerolinecolor": "white"
           }
          },
          "shapedefaults": {
           "line": {
            "color": "#2a3f5f"
           }
          },
          "ternary": {
           "aaxis": {
            "gridcolor": "white",
            "linecolor": "white",
            "ticks": ""
           },
           "baxis": {
            "gridcolor": "white",
            "linecolor": "white",
            "ticks": ""
           },
           "bgcolor": "#E5ECF6",
           "caxis": {
            "gridcolor": "white",
            "linecolor": "white",
            "ticks": ""
           }
          },
          "title": {
           "x": 0.05
          },
          "xaxis": {
           "automargin": true,
           "gridcolor": "white",
           "linecolor": "white",
           "ticks": "",
           "title": {
            "standoff": 15
           },
           "zerolinecolor": "white",
           "zerolinewidth": 2
          },
          "yaxis": {
           "automargin": true,
           "gridcolor": "white",
           "linecolor": "white",
           "ticks": "",
           "title": {
            "standoff": 15
           },
           "zerolinecolor": "white",
           "zerolinewidth": 2
          }
         }
        },
        "title": {
         "text": "Comparação de Métricas - Conjunto de Teste"
        },
        "xaxis": {
         "title": {
          "text": "Métricas"
         }
        },
        "yaxis": {
         "range": [
          0,
          1.1
         ],
         "title": {
          "text": "Valor"
         }
        }
       }
      }
     },
     "metadata": {},
     "output_type": "display_data"
    }
   ],
   "source": [
    "# Gráfico comparativo das métricas\n",
    "test_metrics = metrics_df[metrics_df['Dataset'] == 'test'].copy()\n",
    "\n",
    "fig = go.Figure()\n",
    "\n",
    "metrics_to_plot = ['accuracy', 'precision', 'recall', 'f1', 'auc']\n",
    "x_pos = np.arange(len(metrics_to_plot))\n",
    "\n",
    "for i, model in enumerate(['Decision Tree', 'Random Forest']):\n",
    "    model_data = test_metrics[test_metrics['Modelo'] == model]\n",
    "    values = [model_data[metric].iloc[0] for metric in metrics_to_plot]\n",
    "    \n",
    "    fig.add_trace(go.Bar(\n",
    "        name=model,\n",
    "        x=metrics_to_plot,\n",
    "        y=values,\n",
    "        text=[f'{v:.3f}' for v in values],\n",
    "        textposition='auto',\n",
    "        marker_color=['#1f77b4', '#ff7f0e'][i]\n",
    "    ))\n",
    "\n",
    "fig.update_layout(\n",
    "    title='Comparação de Métricas - Conjunto de Teste',\n",
    "    xaxis_title='Métricas',\n",
    "    yaxis_title='Valor',\n",
    "    barmode='group',\n",
    "    yaxis=dict(range=[0, 1.1])\n",
    ")\n",
    "\n",
    "fig.show()\n",
    "fig.write_html('comparacao_metricas.html')"
   ]
  },
  {
   "cell_type": "code",
   "execution_count": 102,
   "metadata": {},
   "outputs": [
    {
     "data": {
      "application/vnd.plotly.v1+json": {
       "config": {
        "plotlyServerURL": "https://plot.ly"
       },
       "data": [
        {
         "line": {
          "color": "gray",
          "dash": "dash"
         },
         "mode": "lines",
         "name": "Classificador Aleatório",
         "type": "scatter",
         "x": [
          0,
          1
         ],
         "y": [
          0,
          1
         ]
        },
        {
         "line": {
          "color": "#1f77b4",
          "width": 3
         },
         "mode": "lines",
         "name": "Decision Tree (AUC = 0.731)",
         "type": "scatter",
         "x": {
          "bdata": "AAAAAAAAAAAAAAAAAAAAABQ7sRM7scM/ntiJndiJzT+e2Imd2IndP57YiZ3Yid0/AAAAAAAA8D8=",
          "dtype": "f8"
         },
         "y": {
          "bdata": "AAAAAAAAAACSJEmSJEnCP5IkSZIkSeI/kiRJkiRJ4j+SJEmSJEniP9u2bdu2bes/AAAAAAAA8D8=",
          "dtype": "f8"
         }
        },
        {
         "line": {
          "color": "#ff7f0e",
          "width": 3
         },
         "mode": "lines",
         "name": "Random Forest (AUC = 0.725)",
         "type": "scatter",
         "x": {
          "bdata": "AAAAAAAAAAAUO7ETO7GzPxQ7sRM7sbM/FDuxEzuxwz8UO7ETO7HDP57YiZ3Yic0/ntiJndiJzT+e2Imd2IndP57YiZ3Yid0/O7ETO7ET6z87sRM7sRPrPwAAAAAAAPA/",
          "dtype": "f8"
         },
         "y": {
          "bdata": "AAAAAAAAAAAAAAAAAAAAANu2bdu2bds/27Zt27Zt2z+SJEmSJEniP5IkSZIkSeI/t23btm3b5j+3bdu2bdvmP9u2bdu2bes/27Zt27Zt6z8AAAAAAADwPwAAAAAAAPA/",
          "dtype": "f8"
         }
        }
       ],
       "layout": {
        "height": 600,
        "template": {
         "data": {
          "bar": [
           {
            "error_x": {
             "color": "#2a3f5f"
            },
            "error_y": {
             "color": "#2a3f5f"
            },
            "marker": {
             "line": {
              "color": "#E5ECF6",
              "width": 0.5
             },
             "pattern": {
              "fillmode": "overlay",
              "size": 10,
              "solidity": 0.2
             }
            },
            "type": "bar"
           }
          ],
          "barpolar": [
           {
            "marker": {
             "line": {
              "color": "#E5ECF6",
              "width": 0.5
             },
             "pattern": {
              "fillmode": "overlay",
              "size": 10,
              "solidity": 0.2
             }
            },
            "type": "barpolar"
           }
          ],
          "carpet": [
           {
            "aaxis": {
             "endlinecolor": "#2a3f5f",
             "gridcolor": "white",
             "linecolor": "white",
             "minorgridcolor": "white",
             "startlinecolor": "#2a3f5f"
            },
            "baxis": {
             "endlinecolor": "#2a3f5f",
             "gridcolor": "white",
             "linecolor": "white",
             "minorgridcolor": "white",
             "startlinecolor": "#2a3f5f"
            },
            "type": "carpet"
           }
          ],
          "choropleth": [
           {
            "colorbar": {
             "outlinewidth": 0,
             "ticks": ""
            },
            "type": "choropleth"
           }
          ],
          "contour": [
           {
            "colorbar": {
             "outlinewidth": 0,
             "ticks": ""
            },
            "colorscale": [
             [
              0,
              "#0d0887"
             ],
             [
              0.1111111111111111,
              "#46039f"
             ],
             [
              0.2222222222222222,
              "#7201a8"
             ],
             [
              0.3333333333333333,
              "#9c179e"
             ],
             [
              0.4444444444444444,
              "#bd3786"
             ],
             [
              0.5555555555555556,
              "#d8576b"
             ],
             [
              0.6666666666666666,
              "#ed7953"
             ],
             [
              0.7777777777777778,
              "#fb9f3a"
             ],
             [
              0.8888888888888888,
              "#fdca26"
             ],
             [
              1,
              "#f0f921"
             ]
            ],
            "type": "contour"
           }
          ],
          "contourcarpet": [
           {
            "colorbar": {
             "outlinewidth": 0,
             "ticks": ""
            },
            "type": "contourcarpet"
           }
          ],
          "heatmap": [
           {
            "colorbar": {
             "outlinewidth": 0,
             "ticks": ""
            },
            "colorscale": [
             [
              0,
              "#0d0887"
             ],
             [
              0.1111111111111111,
              "#46039f"
             ],
             [
              0.2222222222222222,
              "#7201a8"
             ],
             [
              0.3333333333333333,
              "#9c179e"
             ],
             [
              0.4444444444444444,
              "#bd3786"
             ],
             [
              0.5555555555555556,
              "#d8576b"
             ],
             [
              0.6666666666666666,
              "#ed7953"
             ],
             [
              0.7777777777777778,
              "#fb9f3a"
             ],
             [
              0.8888888888888888,
              "#fdca26"
             ],
             [
              1,
              "#f0f921"
             ]
            ],
            "type": "heatmap"
           }
          ],
          "histogram": [
           {
            "marker": {
             "pattern": {
              "fillmode": "overlay",
              "size": 10,
              "solidity": 0.2
             }
            },
            "type": "histogram"
           }
          ],
          "histogram2d": [
           {
            "colorbar": {
             "outlinewidth": 0,
             "ticks": ""
            },
            "colorscale": [
             [
              0,
              "#0d0887"
             ],
             [
              0.1111111111111111,
              "#46039f"
             ],
             [
              0.2222222222222222,
              "#7201a8"
             ],
             [
              0.3333333333333333,
              "#9c179e"
             ],
             [
              0.4444444444444444,
              "#bd3786"
             ],
             [
              0.5555555555555556,
              "#d8576b"
             ],
             [
              0.6666666666666666,
              "#ed7953"
             ],
             [
              0.7777777777777778,
              "#fb9f3a"
             ],
             [
              0.8888888888888888,
              "#fdca26"
             ],
             [
              1,
              "#f0f921"
             ]
            ],
            "type": "histogram2d"
           }
          ],
          "histogram2dcontour": [
           {
            "colorbar": {
             "outlinewidth": 0,
             "ticks": ""
            },
            "colorscale": [
             [
              0,
              "#0d0887"
             ],
             [
              0.1111111111111111,
              "#46039f"
             ],
             [
              0.2222222222222222,
              "#7201a8"
             ],
             [
              0.3333333333333333,
              "#9c179e"
             ],
             [
              0.4444444444444444,
              "#bd3786"
             ],
             [
              0.5555555555555556,
              "#d8576b"
             ],
             [
              0.6666666666666666,
              "#ed7953"
             ],
             [
              0.7777777777777778,
              "#fb9f3a"
             ],
             [
              0.8888888888888888,
              "#fdca26"
             ],
             [
              1,
              "#f0f921"
             ]
            ],
            "type": "histogram2dcontour"
           }
          ],
          "mesh3d": [
           {
            "colorbar": {
             "outlinewidth": 0,
             "ticks": ""
            },
            "type": "mesh3d"
           }
          ],
          "parcoords": [
           {
            "line": {
             "colorbar": {
              "outlinewidth": 0,
              "ticks": ""
             }
            },
            "type": "parcoords"
           }
          ],
          "pie": [
           {
            "automargin": true,
            "type": "pie"
           }
          ],
          "scatter": [
           {
            "fillpattern": {
             "fillmode": "overlay",
             "size": 10,
             "solidity": 0.2
            },
            "type": "scatter"
           }
          ],
          "scatter3d": [
           {
            "line": {
             "colorbar": {
              "outlinewidth": 0,
              "ticks": ""
             }
            },
            "marker": {
             "colorbar": {
              "outlinewidth": 0,
              "ticks": ""
             }
            },
            "type": "scatter3d"
           }
          ],
          "scattercarpet": [
           {
            "marker": {
             "colorbar": {
              "outlinewidth": 0,
              "ticks": ""
             }
            },
            "type": "scattercarpet"
           }
          ],
          "scattergeo": [
           {
            "marker": {
             "colorbar": {
              "outlinewidth": 0,
              "ticks": ""
             }
            },
            "type": "scattergeo"
           }
          ],
          "scattergl": [
           {
            "marker": {
             "colorbar": {
              "outlinewidth": 0,
              "ticks": ""
             }
            },
            "type": "scattergl"
           }
          ],
          "scattermap": [
           {
            "marker": {
             "colorbar": {
              "outlinewidth": 0,
              "ticks": ""
             }
            },
            "type": "scattermap"
           }
          ],
          "scattermapbox": [
           {
            "marker": {
             "colorbar": {
              "outlinewidth": 0,
              "ticks": ""
             }
            },
            "type": "scattermapbox"
           }
          ],
          "scatterpolar": [
           {
            "marker": {
             "colorbar": {
              "outlinewidth": 0,
              "ticks": ""
             }
            },
            "type": "scatterpolar"
           }
          ],
          "scatterpolargl": [
           {
            "marker": {
             "colorbar": {
              "outlinewidth": 0,
              "ticks": ""
             }
            },
            "type": "scatterpolargl"
           }
          ],
          "scatterternary": [
           {
            "marker": {
             "colorbar": {
              "outlinewidth": 0,
              "ticks": ""
             }
            },
            "type": "scatterternary"
           }
          ],
          "surface": [
           {
            "colorbar": {
             "outlinewidth": 0,
             "ticks": ""
            },
            "colorscale": [
             [
              0,
              "#0d0887"
             ],
             [
              0.1111111111111111,
              "#46039f"
             ],
             [
              0.2222222222222222,
              "#7201a8"
             ],
             [
              0.3333333333333333,
              "#9c179e"
             ],
             [
              0.4444444444444444,
              "#bd3786"
             ],
             [
              0.5555555555555556,
              "#d8576b"
             ],
             [
              0.6666666666666666,
              "#ed7953"
             ],
             [
              0.7777777777777778,
              "#fb9f3a"
             ],
             [
              0.8888888888888888,
              "#fdca26"
             ],
             [
              1,
              "#f0f921"
             ]
            ],
            "type": "surface"
           }
          ],
          "table": [
           {
            "cells": {
             "fill": {
              "color": "#EBF0F8"
             },
             "line": {
              "color": "white"
             }
            },
            "header": {
             "fill": {
              "color": "#C8D4E3"
             },
             "line": {
              "color": "white"
             }
            },
            "type": "table"
           }
          ]
         },
         "layout": {
          "annotationdefaults": {
           "arrowcolor": "#2a3f5f",
           "arrowhead": 0,
           "arrowwidth": 1
          },
          "autotypenumbers": "strict",
          "coloraxis": {
           "colorbar": {
            "outlinewidth": 0,
            "ticks": ""
           }
          },
          "colorscale": {
           "diverging": [
            [
             0,
             "#8e0152"
            ],
            [
             0.1,
             "#c51b7d"
            ],
            [
             0.2,
             "#de77ae"
            ],
            [
             0.3,
             "#f1b6da"
            ],
            [
             0.4,
             "#fde0ef"
            ],
            [
             0.5,
             "#f7f7f7"
            ],
            [
             0.6,
             "#e6f5d0"
            ],
            [
             0.7,
             "#b8e186"
            ],
            [
             0.8,
             "#7fbc41"
            ],
            [
             0.9,
             "#4d9221"
            ],
            [
             1,
             "#276419"
            ]
           ],
           "sequential": [
            [
             0,
             "#0d0887"
            ],
            [
             0.1111111111111111,
             "#46039f"
            ],
            [
             0.2222222222222222,
             "#7201a8"
            ],
            [
             0.3333333333333333,
             "#9c179e"
            ],
            [
             0.4444444444444444,
             "#bd3786"
            ],
            [
             0.5555555555555556,
             "#d8576b"
            ],
            [
             0.6666666666666666,
             "#ed7953"
            ],
            [
             0.7777777777777778,
             "#fb9f3a"
            ],
            [
             0.8888888888888888,
             "#fdca26"
            ],
            [
             1,
             "#f0f921"
            ]
           ],
           "sequentialminus": [
            [
             0,
             "#0d0887"
            ],
            [
             0.1111111111111111,
             "#46039f"
            ],
            [
             0.2222222222222222,
             "#7201a8"
            ],
            [
             0.3333333333333333,
             "#9c179e"
            ],
            [
             0.4444444444444444,
             "#bd3786"
            ],
            [
             0.5555555555555556,
             "#d8576b"
            ],
            [
             0.6666666666666666,
             "#ed7953"
            ],
            [
             0.7777777777777778,
             "#fb9f3a"
            ],
            [
             0.8888888888888888,
             "#fdca26"
            ],
            [
             1,
             "#f0f921"
            ]
           ]
          },
          "colorway": [
           "#636efa",
           "#EF553B",
           "#00cc96",
           "#ab63fa",
           "#FFA15A",
           "#19d3f3",
           "#FF6692",
           "#B6E880",
           "#FF97FF",
           "#FECB52"
          ],
          "font": {
           "color": "#2a3f5f"
          },
          "geo": {
           "bgcolor": "white",
           "lakecolor": "white",
           "landcolor": "#E5ECF6",
           "showlakes": true,
           "showland": true,
           "subunitcolor": "white"
          },
          "hoverlabel": {
           "align": "left"
          },
          "hovermode": "closest",
          "mapbox": {
           "style": "light"
          },
          "paper_bgcolor": "white",
          "plot_bgcolor": "#E5ECF6",
          "polar": {
           "angularaxis": {
            "gridcolor": "white",
            "linecolor": "white",
            "ticks": ""
           },
           "bgcolor": "#E5ECF6",
           "radialaxis": {
            "gridcolor": "white",
            "linecolor": "white",
            "ticks": ""
           }
          },
          "scene": {
           "xaxis": {
            "backgroundcolor": "#E5ECF6",
            "gridcolor": "white",
            "gridwidth": 2,
            "linecolor": "white",
            "showbackground": true,
            "ticks": "",
            "zerolinecolor": "white"
           },
           "yaxis": {
            "backgroundcolor": "#E5ECF6",
            "gridcolor": "white",
            "gridwidth": 2,
            "linecolor": "white",
            "showbackground": true,
            "ticks": "",
            "zerolinecolor": "white"
           },
           "zaxis": {
            "backgroundcolor": "#E5ECF6",
            "gridcolor": "white",
            "gridwidth": 2,
            "linecolor": "white",
            "showbackground": true,
            "ticks": "",
            "zerolinecolor": "white"
           }
          },
          "shapedefaults": {
           "line": {
            "color": "#2a3f5f"
           }
          },
          "ternary": {
           "aaxis": {
            "gridcolor": "white",
            "linecolor": "white",
            "ticks": ""
           },
           "baxis": {
            "gridcolor": "white",
            "linecolor": "white",
            "ticks": ""
           },
           "bgcolor": "#E5ECF6",
           "caxis": {
            "gridcolor": "white",
            "linecolor": "white",
            "ticks": ""
           }
          },
          "title": {
           "x": 0.05
          },
          "xaxis": {
           "automargin": true,
           "gridcolor": "white",
           "linecolor": "white",
           "ticks": "",
           "title": {
            "standoff": 15
           },
           "zerolinecolor": "white",
           "zerolinewidth": 2
          },
          "yaxis": {
           "automargin": true,
           "gridcolor": "white",
           "linecolor": "white",
           "ticks": "",
           "title": {
            "standoff": 15
           },
           "zerolinecolor": "white",
           "zerolinewidth": 2
          }
         }
        },
        "title": {
         "text": "Curvas ROC - Conjunto de Teste"
        },
        "width": 600,
        "xaxis": {
         "title": {
          "text": "Taxa de Falsos Positivos"
         }
        },
        "yaxis": {
         "title": {
          "text": "Taxa de Verdadeiros Positivos"
         }
        }
       }
      }
     },
     "metadata": {},
     "output_type": "display_data"
    }
   ],
   "source": [
    "# Curvas ROC\n",
    "fig = go.Figure()\n",
    "\n",
    "# Linha de referência (classificador aleatório)\n",
    "fig.add_trace(go.Scatter(\n",
    "    x=[0, 1], y=[0, 1],\n",
    "    mode='lines',\n",
    "    line=dict(dash='dash', color='gray'),\n",
    "    name='Classificador Aleatório'\n",
    "))\n",
    "\n",
    "colors = ['#1f77b4', '#ff7f0e']\n",
    "for i, (name, model) in enumerate(models.items()):\n",
    "    # Curva ROC para conjunto de teste\n",
    "    fpr, tpr, _ = roc_curve(y_test, probabilities[name]['test'])\n",
    "    auc_score = auc(fpr, tpr)\n",
    "    \n",
    "    fig.add_trace(go.Scatter(\n",
    "        x=fpr, y=tpr,\n",
    "        mode='lines',\n",
    "        name=f'{name} (AUC = {auc_score:.3f})',\n",
    "        line=dict(color=colors[i], width=3)\n",
    "    ))\n",
    "\n",
    "fig.update_layout(\n",
    "    title='Curvas ROC - Conjunto de Teste',\n",
    "    xaxis_title='Taxa de Falsos Positivos',\n",
    "    yaxis_title='Taxa de Verdadeiros Positivos',\n",
    "    width=600, height=600\n",
    ")\n",
    "\n",
    "fig.show()\n",
    "fig.write_html('curvas_roc.html')"
   ]
  },
  {
   "cell_type": "markdown",
   "metadata": {},
   "source": [
    "## 5. Análise de Importância das Features"
   ]
  },
  {
   "cell_type": "code",
   "execution_count": 103,
   "metadata": {},
   "outputs": [
    {
     "data": {
      "application/vnd.plotly.v1+json": {
       "config": {
        "plotlyServerURL": "https://plot.ly"
       },
       "data": [
        {
         "marker": {
          "color": "#1f77b4"
         },
         "name": "Decision Tree",
         "type": "bar",
         "x": [
          "glicemia",
          "pressao_sanguinea",
          "dobra_cutane_triceps",
          "insulina",
          "imc"
         ],
         "xaxis": "x",
         "y": {
          "bdata": "heqJxCs4sz8AAAAAAAAAAPgQSPICMeI/WKVpKuJ+zT+EITEq/CDAPw==",
          "dtype": "f8"
         },
         "yaxis": "y"
        },
        {
         "marker": {
          "color": "#ff7f0e"
         },
         "name": "Random Forest",
         "type": "bar",
         "x": [
          "glicemia",
          "pressao_sanguinea",
          "dobra_cutane_triceps",
          "insulina",
          "imc"
         ],
         "xaxis": "x2",
         "y": {
          "bdata": "dpmOKZwHwj/vUitAFky5P+9YH3nhIds/k+s8vCImyj+kH+AHc+jAPw==",
          "dtype": "f8"
         },
         "yaxis": "y2"
        }
       ],
       "layout": {
        "annotations": [
         {
          "font": {
           "size": 16
          },
          "showarrow": false,
          "text": "Decision Tree",
          "x": 0.225,
          "xanchor": "center",
          "xref": "paper",
          "y": 1,
          "yanchor": "bottom",
          "yref": "paper"
         },
         {
          "font": {
           "size": 16
          },
          "showarrow": false,
          "text": "Random Forest",
          "x": 0.775,
          "xanchor": "center",
          "xref": "paper",
          "y": 1,
          "yanchor": "bottom",
          "yref": "paper"
         }
        ],
        "height": 500,
        "showlegend": false,
        "template": {
         "data": {
          "bar": [
           {
            "error_x": {
             "color": "#2a3f5f"
            },
            "error_y": {
             "color": "#2a3f5f"
            },
            "marker": {
             "line": {
              "color": "#E5ECF6",
              "width": 0.5
             },
             "pattern": {
              "fillmode": "overlay",
              "size": 10,
              "solidity": 0.2
             }
            },
            "type": "bar"
           }
          ],
          "barpolar": [
           {
            "marker": {
             "line": {
              "color": "#E5ECF6",
              "width": 0.5
             },
             "pattern": {
              "fillmode": "overlay",
              "size": 10,
              "solidity": 0.2
             }
            },
            "type": "barpolar"
           }
          ],
          "carpet": [
           {
            "aaxis": {
             "endlinecolor": "#2a3f5f",
             "gridcolor": "white",
             "linecolor": "white",
             "minorgridcolor": "white",
             "startlinecolor": "#2a3f5f"
            },
            "baxis": {
             "endlinecolor": "#2a3f5f",
             "gridcolor": "white",
             "linecolor": "white",
             "minorgridcolor": "white",
             "startlinecolor": "#2a3f5f"
            },
            "type": "carpet"
           }
          ],
          "choropleth": [
           {
            "colorbar": {
             "outlinewidth": 0,
             "ticks": ""
            },
            "type": "choropleth"
           }
          ],
          "contour": [
           {
            "colorbar": {
             "outlinewidth": 0,
             "ticks": ""
            },
            "colorscale": [
             [
              0,
              "#0d0887"
             ],
             [
              0.1111111111111111,
              "#46039f"
             ],
             [
              0.2222222222222222,
              "#7201a8"
             ],
             [
              0.3333333333333333,
              "#9c179e"
             ],
             [
              0.4444444444444444,
              "#bd3786"
             ],
             [
              0.5555555555555556,
              "#d8576b"
             ],
             [
              0.6666666666666666,
              "#ed7953"
             ],
             [
              0.7777777777777778,
              "#fb9f3a"
             ],
             [
              0.8888888888888888,
              "#fdca26"
             ],
             [
              1,
              "#f0f921"
             ]
            ],
            "type": "contour"
           }
          ],
          "contourcarpet": [
           {
            "colorbar": {
             "outlinewidth": 0,
             "ticks": ""
            },
            "type": "contourcarpet"
           }
          ],
          "heatmap": [
           {
            "colorbar": {
             "outlinewidth": 0,
             "ticks": ""
            },
            "colorscale": [
             [
              0,
              "#0d0887"
             ],
             [
              0.1111111111111111,
              "#46039f"
             ],
             [
              0.2222222222222222,
              "#7201a8"
             ],
             [
              0.3333333333333333,
              "#9c179e"
             ],
             [
              0.4444444444444444,
              "#bd3786"
             ],
             [
              0.5555555555555556,
              "#d8576b"
             ],
             [
              0.6666666666666666,
              "#ed7953"
             ],
             [
              0.7777777777777778,
              "#fb9f3a"
             ],
             [
              0.8888888888888888,
              "#fdca26"
             ],
             [
              1,
              "#f0f921"
             ]
            ],
            "type": "heatmap"
           }
          ],
          "histogram": [
           {
            "marker": {
             "pattern": {
              "fillmode": "overlay",
              "size": 10,
              "solidity": 0.2
             }
            },
            "type": "histogram"
           }
          ],
          "histogram2d": [
           {
            "colorbar": {
             "outlinewidth": 0,
             "ticks": ""
            },
            "colorscale": [
             [
              0,
              "#0d0887"
             ],
             [
              0.1111111111111111,
              "#46039f"
             ],
             [
              0.2222222222222222,
              "#7201a8"
             ],
             [
              0.3333333333333333,
              "#9c179e"
             ],
             [
              0.4444444444444444,
              "#bd3786"
             ],
             [
              0.5555555555555556,
              "#d8576b"
             ],
             [
              0.6666666666666666,
              "#ed7953"
             ],
             [
              0.7777777777777778,
              "#fb9f3a"
             ],
             [
              0.8888888888888888,
              "#fdca26"
             ],
             [
              1,
              "#f0f921"
             ]
            ],
            "type": "histogram2d"
           }
          ],
          "histogram2dcontour": [
           {
            "colorbar": {
             "outlinewidth": 0,
             "ticks": ""
            },
            "colorscale": [
             [
              0,
              "#0d0887"
             ],
             [
              0.1111111111111111,
              "#46039f"
             ],
             [
              0.2222222222222222,
              "#7201a8"
             ],
             [
              0.3333333333333333,
              "#9c179e"
             ],
             [
              0.4444444444444444,
              "#bd3786"
             ],
             [
              0.5555555555555556,
              "#d8576b"
             ],
             [
              0.6666666666666666,
              "#ed7953"
             ],
             [
              0.7777777777777778,
              "#fb9f3a"
             ],
             [
              0.8888888888888888,
              "#fdca26"
             ],
             [
              1,
              "#f0f921"
             ]
            ],
            "type": "histogram2dcontour"
           }
          ],
          "mesh3d": [
           {
            "colorbar": {
             "outlinewidth": 0,
             "ticks": ""
            },
            "type": "mesh3d"
           }
          ],
          "parcoords": [
           {
            "line": {
             "colorbar": {
              "outlinewidth": 0,
              "ticks": ""
             }
            },
            "type": "parcoords"
           }
          ],
          "pie": [
           {
            "automargin": true,
            "type": "pie"
           }
          ],
          "scatter": [
           {
            "fillpattern": {
             "fillmode": "overlay",
             "size": 10,
             "solidity": 0.2
            },
            "type": "scatter"
           }
          ],
          "scatter3d": [
           {
            "line": {
             "colorbar": {
              "outlinewidth": 0,
              "ticks": ""
             }
            },
            "marker": {
             "colorbar": {
              "outlinewidth": 0,
              "ticks": ""
             }
            },
            "type": "scatter3d"
           }
          ],
          "scattercarpet": [
           {
            "marker": {
             "colorbar": {
              "outlinewidth": 0,
              "ticks": ""
             }
            },
            "type": "scattercarpet"
           }
          ],
          "scattergeo": [
           {
            "marker": {
             "colorbar": {
              "outlinewidth": 0,
              "ticks": ""
             }
            },
            "type": "scattergeo"
           }
          ],
          "scattergl": [
           {
            "marker": {
             "colorbar": {
              "outlinewidth": 0,
              "ticks": ""
             }
            },
            "type": "scattergl"
           }
          ],
          "scattermap": [
           {
            "marker": {
             "colorbar": {
              "outlinewidth": 0,
              "ticks": ""
             }
            },
            "type": "scattermap"
           }
          ],
          "scattermapbox": [
           {
            "marker": {
             "colorbar": {
              "outlinewidth": 0,
              "ticks": ""
             }
            },
            "type": "scattermapbox"
           }
          ],
          "scatterpolar": [
           {
            "marker": {
             "colorbar": {
              "outlinewidth": 0,
              "ticks": ""
             }
            },
            "type": "scatterpolar"
           }
          ],
          "scatterpolargl": [
           {
            "marker": {
             "colorbar": {
              "outlinewidth": 0,
              "ticks": ""
             }
            },
            "type": "scatterpolargl"
           }
          ],
          "scatterternary": [
           {
            "marker": {
             "colorbar": {
              "outlinewidth": 0,
              "ticks": ""
             }
            },
            "type": "scatterternary"
           }
          ],
          "surface": [
           {
            "colorbar": {
             "outlinewidth": 0,
             "ticks": ""
            },
            "colorscale": [
             [
              0,
              "#0d0887"
             ],
             [
              0.1111111111111111,
              "#46039f"
             ],
             [
              0.2222222222222222,
              "#7201a8"
             ],
             [
              0.3333333333333333,
              "#9c179e"
             ],
             [
              0.4444444444444444,
              "#bd3786"
             ],
             [
              0.5555555555555556,
              "#d8576b"
             ],
             [
              0.6666666666666666,
              "#ed7953"
             ],
             [
              0.7777777777777778,
              "#fb9f3a"
             ],
             [
              0.8888888888888888,
              "#fdca26"
             ],
             [
              1,
              "#f0f921"
             ]
            ],
            "type": "surface"
           }
          ],
          "table": [
           {
            "cells": {
             "fill": {
              "color": "#EBF0F8"
             },
             "line": {
              "color": "white"
             }
            },
            "header": {
             "fill": {
              "color": "#C8D4E3"
             },
             "line": {
              "color": "white"
             }
            },
            "type": "table"
           }
          ]
         },
         "layout": {
          "annotationdefaults": {
           "arrowcolor": "#2a3f5f",
           "arrowhead": 0,
           "arrowwidth": 1
          },
          "autotypenumbers": "strict",
          "coloraxis": {
           "colorbar": {
            "outlinewidth": 0,
            "ticks": ""
           }
          },
          "colorscale": {
           "diverging": [
            [
             0,
             "#8e0152"
            ],
            [
             0.1,
             "#c51b7d"
            ],
            [
             0.2,
             "#de77ae"
            ],
            [
             0.3,
             "#f1b6da"
            ],
            [
             0.4,
             "#fde0ef"
            ],
            [
             0.5,
             "#f7f7f7"
            ],
            [
             0.6,
             "#e6f5d0"
            ],
            [
             0.7,
             "#b8e186"
            ],
            [
             0.8,
             "#7fbc41"
            ],
            [
             0.9,
             "#4d9221"
            ],
            [
             1,
             "#276419"
            ]
           ],
           "sequential": [
            [
             0,
             "#0d0887"
            ],
            [
             0.1111111111111111,
             "#46039f"
            ],
            [
             0.2222222222222222,
             "#7201a8"
            ],
            [
             0.3333333333333333,
             "#9c179e"
            ],
            [
             0.4444444444444444,
             "#bd3786"
            ],
            [
             0.5555555555555556,
             "#d8576b"
            ],
            [
             0.6666666666666666,
             "#ed7953"
            ],
            [
             0.7777777777777778,
             "#fb9f3a"
            ],
            [
             0.8888888888888888,
             "#fdca26"
            ],
            [
             1,
             "#f0f921"
            ]
           ],
           "sequentialminus": [
            [
             0,
             "#0d0887"
            ],
            [
             0.1111111111111111,
             "#46039f"
            ],
            [
             0.2222222222222222,
             "#7201a8"
            ],
            [
             0.3333333333333333,
             "#9c179e"
            ],
            [
             0.4444444444444444,
             "#bd3786"
            ],
            [
             0.5555555555555556,
             "#d8576b"
            ],
            [
             0.6666666666666666,
             "#ed7953"
            ],
            [
             0.7777777777777778,
             "#fb9f3a"
            ],
            [
             0.8888888888888888,
             "#fdca26"
            ],
            [
             1,
             "#f0f921"
            ]
           ]
          },
          "colorway": [
           "#636efa",
           "#EF553B",
           "#00cc96",
           "#ab63fa",
           "#FFA15A",
           "#19d3f3",
           "#FF6692",
           "#B6E880",
           "#FF97FF",
           "#FECB52"
          ],
          "font": {
           "color": "#2a3f5f"
          },
          "geo": {
           "bgcolor": "white",
           "lakecolor": "white",
           "landcolor": "#E5ECF6",
           "showlakes": true,
           "showland": true,
           "subunitcolor": "white"
          },
          "hoverlabel": {
           "align": "left"
          },
          "hovermode": "closest",
          "mapbox": {
           "style": "light"
          },
          "paper_bgcolor": "white",
          "plot_bgcolor": "#E5ECF6",
          "polar": {
           "angularaxis": {
            "gridcolor": "white",
            "linecolor": "white",
            "ticks": ""
           },
           "bgcolor": "#E5ECF6",
           "radialaxis": {
            "gridcolor": "white",
            "linecolor": "white",
            "ticks": ""
           }
          },
          "scene": {
           "xaxis": {
            "backgroundcolor": "#E5ECF6",
            "gridcolor": "white",
            "gridwidth": 2,
            "linecolor": "white",
            "showbackground": true,
            "ticks": "",
            "zerolinecolor": "white"
           },
           "yaxis": {
            "backgroundcolor": "#E5ECF6",
            "gridcolor": "white",
            "gridwidth": 2,
            "linecolor": "white",
            "showbackground": true,
            "ticks": "",
            "zerolinecolor": "white"
           },
           "zaxis": {
            "backgroundcolor": "#E5ECF6",
            "gridcolor": "white",
            "gridwidth": 2,
            "linecolor": "white",
            "showbackground": true,
            "ticks": "",
            "zerolinecolor": "white"
           }
          },
          "shapedefaults": {
           "line": {
            "color": "#2a3f5f"
           }
          },
          "ternary": {
           "aaxis": {
            "gridcolor": "white",
            "linecolor": "white",
            "ticks": ""
           },
           "baxis": {
            "gridcolor": "white",
            "linecolor": "white",
            "ticks": ""
           },
           "bgcolor": "#E5ECF6",
           "caxis": {
            "gridcolor": "white",
            "linecolor": "white",
            "ticks": ""
           }
          },
          "title": {
           "x": 0.05
          },
          "xaxis": {
           "automargin": true,
           "gridcolor": "white",
           "linecolor": "white",
           "ticks": "",
           "title": {
            "standoff": 15
           },
           "zerolinecolor": "white",
           "zerolinewidth": 2
          },
          "yaxis": {
           "automargin": true,
           "gridcolor": "white",
           "linecolor": "white",
           "ticks": "",
           "title": {
            "standoff": 15
           },
           "zerolinecolor": "white",
           "zerolinewidth": 2
          }
         }
        },
        "title": {
         "text": "Importância das Features por Modelo"
        },
        "xaxis": {
         "anchor": "y",
         "domain": [
          0,
          0.45
         ],
         "tickangle": 45
        },
        "xaxis2": {
         "anchor": "y2",
         "domain": [
          0.55,
          1
         ],
         "tickangle": 45
        },
        "yaxis": {
         "anchor": "x",
         "domain": [
          0,
          1
         ]
        },
        "yaxis2": {
         "anchor": "x2",
         "domain": [
          0,
          1
         ]
        }
       }
      }
     },
     "metadata": {},
     "output_type": "display_data"
    },
    {
     "name": "stdout",
     "output_type": "stream",
     "text": [
      "=== IMPORTÂNCIA DAS FEATURES ===\n"
     ]
    },
    {
     "data": {
      "text/html": [
       "<div>\n",
       "<style scoped>\n",
       "    .dataframe tbody tr th:only-of-type {\n",
       "        vertical-align: middle;\n",
       "    }\n",
       "\n",
       "    .dataframe tbody tr th {\n",
       "        vertical-align: top;\n",
       "    }\n",
       "\n",
       "    .dataframe thead th {\n",
       "        text-align: right;\n",
       "    }\n",
       "</style>\n",
       "<table border=\"1\" class=\"dataframe\">\n",
       "  <thead>\n",
       "    <tr style=\"text-align: right;\">\n",
       "      <th></th>\n",
       "      <th>Feature</th>\n",
       "      <th>Decision_Tree</th>\n",
       "      <th>Random_Forest</th>\n",
       "    </tr>\n",
       "  </thead>\n",
       "  <tbody>\n",
       "    <tr>\n",
       "      <th>2</th>\n",
       "      <td>dobra_cutane_triceps</td>\n",
       "      <td>0.5685</td>\n",
       "      <td>0.4239</td>\n",
       "    </tr>\n",
       "    <tr>\n",
       "      <th>3</th>\n",
       "      <td>insulina</td>\n",
       "      <td>0.2304</td>\n",
       "      <td>0.2043</td>\n",
       "    </tr>\n",
       "    <tr>\n",
       "      <th>4</th>\n",
       "      <td>imc</td>\n",
       "      <td>0.1260</td>\n",
       "      <td>0.1321</td>\n",
       "    </tr>\n",
       "    <tr>\n",
       "      <th>0</th>\n",
       "      <td>glicemia</td>\n",
       "      <td>0.0751</td>\n",
       "      <td>0.1409</td>\n",
       "    </tr>\n",
       "    <tr>\n",
       "      <th>1</th>\n",
       "      <td>pressao_sanguinea</td>\n",
       "      <td>0.0000</td>\n",
       "      <td>0.0988</td>\n",
       "    </tr>\n",
       "  </tbody>\n",
       "</table>\n",
       "</div>"
      ],
      "text/plain": [
       "                Feature  Decision_Tree  Random_Forest\n",
       "2  dobra_cutane_triceps         0.5685         0.4239\n",
       "3              insulina         0.2304         0.2043\n",
       "4                   imc         0.1260         0.1321\n",
       "0              glicemia         0.0751         0.1409\n",
       "1     pressao_sanguinea         0.0000         0.0988"
      ]
     },
     "metadata": {},
     "output_type": "display_data"
    }
   ],
   "source": [
    "# Importância das features\n",
    "feature_names = X.columns\n",
    "\n",
    "fig = make_subplots(\n",
    "    rows=1, cols=2,\n",
    "    subplot_titles=['Decision Tree', 'Random Forest']\n",
    ")\n",
    "\n",
    "# Decision Tree\n",
    "dt_importance = dt_model.feature_importances_\n",
    "fig.add_trace(\n",
    "    go.Bar(\n",
    "        x=feature_names,\n",
    "        y=dt_importance,\n",
    "        name='Decision Tree',\n",
    "        marker_color='#1f77b4'\n",
    "    ),\n",
    "    row=1, col=1\n",
    ")\n",
    "\n",
    "# Random Forest\n",
    "rf_importance = rf_model.feature_importances_\n",
    "fig.add_trace(\n",
    "    go.Bar(\n",
    "        x=feature_names,\n",
    "        y=rf_importance,\n",
    "        name='Random Forest',\n",
    "        marker_color='#ff7f0e'\n",
    "    ),\n",
    "    row=1, col=2\n",
    ")\n",
    "\n",
    "fig.update_layout(\n",
    "    title_text=\"Importância das Features por Modelo\",\n",
    "    showlegend=False,\n",
    "    height=500\n",
    ")\n",
    "\n",
    "fig.update_xaxes(tickangle=45)\n",
    "fig.show()\n",
    "fig.write_html('importancia_features.html')\n",
    "\n",
    "# Tabela de importância\n",
    "importance_df = pd.DataFrame({\n",
    "    'Feature': feature_names,\n",
    "    'Decision_Tree': dt_importance,\n",
    "    'Random_Forest': rf_importance\n",
    "}).sort_values('Decision_Tree', ascending=False)\n",
    "\n",
    "print(\"=== IMPORTÂNCIA DAS FEATURES ===\")\n",
    "display(importance_df.round(4))"
   ]
  },
  {
   "cell_type": "markdown",
   "metadata": {},
   "source": [
    "## 6. Exportação de Resultados"
   ]
  },
  {
   "cell_type": "code",
   "execution_count": 104,
   "metadata": {},
   "outputs": [
    {
     "name": "stdout",
     "output_type": "stream",
     "text": [
      "=== RESUMO FINAL - CONJUNTO DE TESTE ===\n"
     ]
    },
    {
     "data": {
      "text/html": [
       "<div>\n",
       "<style scoped>\n",
       "    .dataframe tbody tr th:only-of-type {\n",
       "        vertical-align: middle;\n",
       "    }\n",
       "\n",
       "    .dataframe tbody tr th {\n",
       "        vertical-align: top;\n",
       "    }\n",
       "\n",
       "    .dataframe thead th {\n",
       "        text-align: right;\n",
       "    }\n",
       "</style>\n",
       "<table border=\"1\" class=\"dataframe\">\n",
       "  <thead>\n",
       "    <tr style=\"text-align: right;\">\n",
       "      <th></th>\n",
       "      <th>Modelo</th>\n",
       "      <th>accuracy</th>\n",
       "      <th>precision</th>\n",
       "      <th>recall</th>\n",
       "      <th>f1</th>\n",
       "      <th>auc</th>\n",
       "    </tr>\n",
       "  </thead>\n",
       "  <tbody>\n",
       "    <tr>\n",
       "      <th>2</th>\n",
       "      <td>Decision Tree</td>\n",
       "      <td>0.75</td>\n",
       "      <td>0.6667</td>\n",
       "      <td>0.5714</td>\n",
       "      <td>0.6154</td>\n",
       "      <td>0.7308</td>\n",
       "    </tr>\n",
       "    <tr>\n",
       "      <th>5</th>\n",
       "      <td>Random Forest</td>\n",
       "      <td>0.65</td>\n",
       "      <td>0.5000</td>\n",
       "      <td>0.1429</td>\n",
       "      <td>0.2222</td>\n",
       "      <td>0.7253</td>\n",
       "    </tr>\n",
       "  </tbody>\n",
       "</table>\n",
       "</div>"
      ],
      "text/plain": [
       "          Modelo  accuracy  precision  recall      f1     auc\n",
       "2  Decision Tree      0.75     0.6667  0.5714  0.6154  0.7308\n",
       "5  Random Forest      0.65     0.5000  0.1429  0.2222  0.7253"
      ]
     },
     "metadata": {},
     "output_type": "display_data"
    },
    {
     "name": "stdout",
     "output_type": "stream",
     "text": [
      "\n",
      "✅ Arquivos exportados:\n",
      "- metricas_modelos.csv\n",
      "- importancia_features.csv\n",
      "- resumo_final_modelos.csv\n",
      "- distribuicao_variaveis.html\n",
      "- matrizes_confusao.html\n",
      "- comparacao_metricas.html\n",
      "- curvas_roc.html\n",
      "- importancia_features.html\n"
     ]
    }
   ],
   "source": [
    "# Exportação das métricas para Excel/Power BI\n",
    "metrics_df.to_csv('metricas_modelos.csv', index=False)\n",
    "importance_df.to_csv('importancia_features.csv', index=False)\n",
    "\n",
    "# Tabela resumo final\n",
    "resumo_final = test_metrics[['Modelo', 'accuracy', 'precision', 'recall', 'f1', 'auc']].round(4)\n",
    "resumo_final.to_csv('resumo_final_modelos.csv', index=False)\n",
    "\n",
    "print(\"=== RESUMO FINAL - CONJUNTO DE TESTE ===\")\n",
    "display(resumo_final)\n",
    "\n",
    "print(\"\\n✅ Arquivos exportados:\")\n",
    "print(\"- metricas_modelos.csv\")\n",
    "print(\"- importancia_features.csv\")\n",
    "print(\"- resumo_final_modelos.csv\")\n",
    "print(\"- distribuicao_variaveis.html\")\n",
    "print(\"- matrizes_confusao.html\")\n",
    "print(\"- comparacao_metricas.html\")\n",
    "print(\"- curvas_roc.html\")\n",
    "print(\"- importancia_features.html\")"
   ]
  },
  {
   "cell_type": "markdown",
   "metadata": {},
   "source": [
    "## 7. Conclusões e Recomendações\n",
    "\n",
    "### Análise Comparativa dos Modelos\n",
    "\n",
    "**Decision Tree (max_depth=3):**\n",
    "- Modelo mais simples e interpretável\n",
    "- Boa performance geral\n",
    "- Menor risco de overfitting devido à limitação de profundidade\n",
    "\n",
    "**Random Forest (max_depth=2):**\n",
    "- Ensemble de árvores com profundidade ainda mais limitada\n",
    "- Potencialmente mais robusto a ruído\n",
    "- Melhor generalização esperada\n",
    "\n",
    "### Recomendações:\n",
    "\n",
    "1. **Modelo Recomendado**: Baseado nas métricas de teste, recomenda-se o modelo com melhor performance balanceada\n",
    "\n",
    "2. **Features Importantes**: Focar nas variáveis com maior importância para futuras coletas de dados\n",
    "\n",
    "3. **Próximos Passos**:\n",
    "   - Considerar técnicas de balanceamento de classes se necessário\n",
    "   - Explorar outros algoritmos (SVM, Gradient Boosting)\n",
    "   - Implementar validação cruzada para maior robustez\n",
    "   - Análise de erros para identificar padrões nos casos mal classificados\n",
    "\n",
    "4. **Aplicação Prática**: O modelo pode ser usado como ferramenta de triagem, mas sempre deve ser complementado por avaliação médica profissional."
   ]
  }
 ],
 "metadata": {
  "kernelspec": {
   "display_name": "Python 3",
   "language": "python",
   "name": "python3"
  },
  "language_info": {
   "codemirror_mode": {
    "name": "ipython",
    "version": 3
   },
   "file_extension": ".py",
   "mimetype": "text/x-python",
   "name": "python",
   "nbconvert_exporter": "python",
   "pygments_lexer": "ipython3",
   "version": "3.11.9"
  }
 },
 "nbformat": 4,
 "nbformat_minor": 4
}
